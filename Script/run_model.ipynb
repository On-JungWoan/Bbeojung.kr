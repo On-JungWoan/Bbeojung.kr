{
 "cells": [
  {
   "cell_type": "code",
   "execution_count": 1,
   "metadata": {},
   "outputs": [],
   "source": [
    "from pycaret.regression import *"
   ]
  },
  {
   "cell_type": "code",
   "execution_count": 2,
   "metadata": {},
   "outputs": [],
   "source": [
    "import pandas as pd"
   ]
  },
  {
   "cell_type": "code",
   "execution_count": 3,
   "metadata": {},
   "outputs": [],
   "source": [
    "train = pd.read_parquet('C:/Users/user/Desktop/bj/Bbeojung.kr/Data/final_dataset/train_1000.parquet')"
   ]
  },
  {
   "cell_type": "code",
   "execution_count": null,
   "metadata": {},
   "outputs": [],
   "source": [
    "exp_clf = setup(data = train, target = 'num', fold_shuffle=True, session_id=123)"
   ]
  },
  {
   "cell_type": "code",
   "execution_count": null,
   "metadata": {
    "colab": {
     "base_uri": "https://localhost:8080/",
     "height": 1000,
     "referenced_widgets": [
      "2ece921471e74c248fb774d3237d71f4",
      "089115b57360499ba780cdd2e4c3ec90",
      "43b4ee0541b545c1bd858dc71dd5682b",
      "3a118315ffec46288f104a8e5ae8071f",
      "5da6d9510e244d5ba1f8b5838e6ec6f4",
      "c59d94cc26ce46009674ad440303bc0c"
     ]
    },
    "id": "jH13Pf0A_ZTm",
    "outputId": "0814410d-0467-42f9-efcb-f07648410332",
    "scrolled": false
   },
   "outputs": [],
   "source": [
    "best = compare_models(sort='r2', n_select=3)"
   ]
  },
  {
   "cell_type": "code",
   "execution_count": null,
   "metadata": {},
   "outputs": [],
   "source": [
    "lgbm = create_model('lightgbm')\n",
    "tuned_lgbm = tune_model(lgbm, n_iter = 1000, optimize = 'MAE', choose_better = True)"
   ]
  },
  {
   "cell_type": "code",
   "execution_count": null,
   "metadata": {},
   "outputs": [],
   "source": [
    "# # 모델 생성하는 법\n",
    "# lgbm = create_model('lightgbm')\n",
    "\n",
    "# # 하이퍼 파라미터 튜닝 하는 법\n",
    "# tuned_lgbm = tune_model(lgbm, n_iter = 1000, optimize = 'R2', choose_better = True)\n",
    "# tuned_lgbm\n",
    "\n",
    "# # 모델 생성하는 법\n",
    "# br = create_model('br')\n",
    "\n",
    "# # 하이퍼 파라미터 튜닝 하는 법\n",
    "# tuned_br = tune_model(br, n_iter = 100, optimize = 'R2', choose_better = True)\n",
    "# tuned_br\n",
    "\n",
    "# # 모델 블랜딩 하는 법\n",
    "# blender_3 = blend_models([tuned_lgbm, tuned_br])\n",
    "# blender_3\n",
    "\n",
    "# # 모델 앙상블 하는 법\n",
    "# esemble_lgbm = ensemble_model(lgbm, fold = 5, n_estimators = 100, choose_better = True)\n",
    "# esemble_lgbm\n",
    "# esemble_lgbm_tuned = ensemble_model(tuned_lgbm, fold = 10, n_estimators = 100, choose_better = True)\n",
    "# esemble_lgbm_tuned\n",
    "# esemble_blender_3 = ensemble_model(blender_3, fold = 10, n_estimators = 100, choose_better = True)\n",
    "# esemble_blender_3\n",
    "\n",
    "# 최종 모델\n",
    "# final_model = finalize_model(esemble_lgbm_tuned)\n",
    "# final_model\n",
    "\n",
    "# predict 하는 법\n",
    "# prediction = predict_model(final_model, data = x_test)\n",
    "\n",
    "# y_pred = prediction['Label']\n",
    "\n",
    "# MAE =  mean_absolute_error(y_test, y_pred)\n",
    "# MSE = mean_squared_error(y_test, y_pred)\n",
    "# RMSE = np.sqrt(MSE)\n",
    "# MSLE = mean_squared_log_error(y_test, y_pred)\n",
    "# RMSLE = np.sqrt(mean_squared_log_error(y_test, y_pred))\n",
    "# R2 = r2_score(y_test, y_pred)\n",
    "\n",
    "# print(MAE, MSE, RMSE, MSLE, RMSLE, R2, sep='\\n')\n",
    "\n",
    "# fig = plt.figure(figsize=(30,10))\n",
    "# fig.add_subplot()\n",
    "\n",
    "# plt.plot(y_pred[:200].tolist(), label='Prediction', color='red')\n",
    "# plt.plot(y_test[:200].tolist(), label='Test', color='green')\n",
    "# plt.legend(fontsize = 30)"
   ]
  }
 ],
 "metadata": {
  "kernelspec": {
   "display_name": "Python 3.10.6 ('bus_proj')",
   "language": "python",
   "name": "python3"
  },
  "language_info": {
   "codemirror_mode": {
    "name": "ipython",
    "version": 3
   },
   "file_extension": ".py",
   "mimetype": "text/x-python",
   "name": "python",
   "nbconvert_exporter": "python",
   "pygments_lexer": "ipython3",
   "version": "3.10.6"
  },
  "orig_nbformat": 4,
  "vscode": {
   "interpreter": {
    "hash": "182aa2bc8953610281ff3926af2235463d9a5e251f69f24755a01c30371a38b1"
   }
  }
 },
 "nbformat": 4,
 "nbformat_minor": 2
}
