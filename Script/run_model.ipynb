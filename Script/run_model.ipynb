{
 "cells": [
  {
   "cell_type": "code",
   "execution_count": 1,
   "metadata": {},
   "outputs": [],
   "source": [
    "from pycaret.regression import *"
   ]
  },
  {
   "cell_type": "code",
   "execution_count": 2,
   "metadata": {},
   "outputs": [],
   "source": [
    "import pandas as pd"
   ]
  },
  {
   "cell_type": "code",
   "execution_count": 3,
   "metadata": {},
   "outputs": [],
   "source": [
    "train = pd.read_parquet('C:/Users/user/Desktop/bj/Bbeojung.kr/Data/final_dataset/train_1000.parquet')"
   ]
  },
  {
   "cell_type": "code",
   "execution_count": 5,
   "metadata": {},
   "outputs": [
    {
     "ename": "MemoryError",
     "evalue": "Unable to allocate 71.9 GiB for an array with shape (36, 268136000) and data type float64",
     "output_type": "error",
     "traceback": [
      "\u001b[1;31m---------------------------------------------------------------------------\u001b[0m",
      "\u001b[1;31mMemoryError\u001b[0m                               Traceback (most recent call last)",
      "Cell \u001b[1;32mIn [5], line 1\u001b[0m\n\u001b[1;32m----> 1\u001b[0m exp_clf \u001b[39m=\u001b[39m setup(data \u001b[39m=\u001b[39;49m train, target \u001b[39m=\u001b[39;49m \u001b[39m'\u001b[39;49m\u001b[39mnum\u001b[39;49m\u001b[39m'\u001b[39;49m, fold_shuffle\u001b[39m=\u001b[39;49m\u001b[39mTrue\u001b[39;49;00m, session_id\u001b[39m=\u001b[39;49m\u001b[39m123\u001b[39;49m)\n",
      "File \u001b[1;32m~\\AppData\\Roaming\\Python\\Python310\\site-packages\\pycaret\\regression\\functional.py:593\u001b[0m, in \u001b[0;36msetup\u001b[1;34m(data, data_func, target, index, train_size, test_data, ordinal_features, numeric_features, categorical_features, date_features, text_features, ignore_features, keep_features, preprocess, create_date_columns, imputation_type, numeric_imputation, categorical_imputation, iterative_imputation_iters, numeric_iterative_imputer, categorical_iterative_imputer, text_features_method, max_encoding_ohe, encoding_method, rare_to_value, rare_value, polynomial_features, polynomial_degree, low_variance_threshold, group_features, group_names, remove_multicollinearity, multicollinearity_threshold, bin_numeric_features, remove_outliers, outliers_method, outliers_threshold, transformation, transformation_method, normalize, normalize_method, pca, pca_method, pca_components, feature_selection, feature_selection_method, feature_selection_estimator, n_features_to_select, transform_target, transform_target_method, custom_pipeline, custom_pipeline_position, data_split_shuffle, data_split_stratify, fold_strategy, fold, fold_shuffle, fold_groups, n_jobs, use_gpu, html, session_id, system_log, log_experiment, experiment_name, experiment_custom_tags, log_plots, log_profile, log_data, verbose, memory, profile, profile_kwargs)\u001b[0m\n\u001b[0;32m    591\u001b[0m exp \u001b[39m=\u001b[39m _EXPERIMENT_CLASS()\n\u001b[0;32m    592\u001b[0m set_current_experiment(exp)\n\u001b[1;32m--> 593\u001b[0m \u001b[39mreturn\u001b[39;00m exp\u001b[39m.\u001b[39;49msetup(\n\u001b[0;32m    594\u001b[0m     data\u001b[39m=\u001b[39;49mdata,\n\u001b[0;32m    595\u001b[0m     data_func\u001b[39m=\u001b[39;49mdata_func,\n\u001b[0;32m    596\u001b[0m     target\u001b[39m=\u001b[39;49mtarget,\n\u001b[0;32m    597\u001b[0m     index\u001b[39m=\u001b[39;49mindex,\n\u001b[0;32m    598\u001b[0m     train_size\u001b[39m=\u001b[39;49mtrain_size,\n\u001b[0;32m    599\u001b[0m     test_data\u001b[39m=\u001b[39;49mtest_data,\n\u001b[0;32m    600\u001b[0m     ordinal_features\u001b[39m=\u001b[39;49mordinal_features,\n\u001b[0;32m    601\u001b[0m     numeric_features\u001b[39m=\u001b[39;49mnumeric_features,\n\u001b[0;32m    602\u001b[0m     categorical_features\u001b[39m=\u001b[39;49mcategorical_features,\n\u001b[0;32m    603\u001b[0m     date_features\u001b[39m=\u001b[39;49mdate_features,\n\u001b[0;32m    604\u001b[0m     text_features\u001b[39m=\u001b[39;49mtext_features,\n\u001b[0;32m    605\u001b[0m     ignore_features\u001b[39m=\u001b[39;49mignore_features,\n\u001b[0;32m    606\u001b[0m     keep_features\u001b[39m=\u001b[39;49mkeep_features,\n\u001b[0;32m    607\u001b[0m     preprocess\u001b[39m=\u001b[39;49mpreprocess,\n\u001b[0;32m    608\u001b[0m     create_date_columns\u001b[39m=\u001b[39;49mcreate_date_columns,\n\u001b[0;32m    609\u001b[0m     imputation_type\u001b[39m=\u001b[39;49mimputation_type,\n\u001b[0;32m    610\u001b[0m     numeric_imputation\u001b[39m=\u001b[39;49mnumeric_imputation,\n\u001b[0;32m    611\u001b[0m     categorical_imputation\u001b[39m=\u001b[39;49mcategorical_imputation,\n\u001b[0;32m    612\u001b[0m     iterative_imputation_iters\u001b[39m=\u001b[39;49miterative_imputation_iters,\n\u001b[0;32m    613\u001b[0m     numeric_iterative_imputer\u001b[39m=\u001b[39;49mnumeric_iterative_imputer,\n\u001b[0;32m    614\u001b[0m     categorical_iterative_imputer\u001b[39m=\u001b[39;49mcategorical_iterative_imputer,\n\u001b[0;32m    615\u001b[0m     text_features_method\u001b[39m=\u001b[39;49mtext_features_method,\n\u001b[0;32m    616\u001b[0m     max_encoding_ohe\u001b[39m=\u001b[39;49mmax_encoding_ohe,\n\u001b[0;32m    617\u001b[0m     encoding_method\u001b[39m=\u001b[39;49mencoding_method,\n\u001b[0;32m    618\u001b[0m     rare_to_value\u001b[39m=\u001b[39;49mrare_to_value,\n\u001b[0;32m    619\u001b[0m     rare_value\u001b[39m=\u001b[39;49mrare_value,\n\u001b[0;32m    620\u001b[0m     polynomial_features\u001b[39m=\u001b[39;49mpolynomial_features,\n\u001b[0;32m    621\u001b[0m     polynomial_degree\u001b[39m=\u001b[39;49mpolynomial_degree,\n\u001b[0;32m    622\u001b[0m     low_variance_threshold\u001b[39m=\u001b[39;49mlow_variance_threshold,\n\u001b[0;32m    623\u001b[0m     group_features\u001b[39m=\u001b[39;49mgroup_features,\n\u001b[0;32m    624\u001b[0m     group_names\u001b[39m=\u001b[39;49mgroup_names,\n\u001b[0;32m    625\u001b[0m     remove_multicollinearity\u001b[39m=\u001b[39;49mremove_multicollinearity,\n\u001b[0;32m    626\u001b[0m     multicollinearity_threshold\u001b[39m=\u001b[39;49mmulticollinearity_threshold,\n\u001b[0;32m    627\u001b[0m     bin_numeric_features\u001b[39m=\u001b[39;49mbin_numeric_features,\n\u001b[0;32m    628\u001b[0m     remove_outliers\u001b[39m=\u001b[39;49mremove_outliers,\n\u001b[0;32m    629\u001b[0m     outliers_method\u001b[39m=\u001b[39;49moutliers_method,\n\u001b[0;32m    630\u001b[0m     outliers_threshold\u001b[39m=\u001b[39;49moutliers_threshold,\n\u001b[0;32m    631\u001b[0m     transformation\u001b[39m=\u001b[39;49mtransformation,\n\u001b[0;32m    632\u001b[0m     transformation_method\u001b[39m=\u001b[39;49mtransformation_method,\n\u001b[0;32m    633\u001b[0m     normalize\u001b[39m=\u001b[39;49mnormalize,\n\u001b[0;32m    634\u001b[0m     normalize_method\u001b[39m=\u001b[39;49mnormalize_method,\n\u001b[0;32m    635\u001b[0m     pca\u001b[39m=\u001b[39;49mpca,\n\u001b[0;32m    636\u001b[0m     pca_method\u001b[39m=\u001b[39;49mpca_method,\n\u001b[0;32m    637\u001b[0m     pca_components\u001b[39m=\u001b[39;49mpca_components,\n\u001b[0;32m    638\u001b[0m     feature_selection\u001b[39m=\u001b[39;49mfeature_selection,\n\u001b[0;32m    639\u001b[0m     feature_selection_method\u001b[39m=\u001b[39;49mfeature_selection_method,\n\u001b[0;32m    640\u001b[0m     feature_selection_estimator\u001b[39m=\u001b[39;49mfeature_selection_estimator,\n\u001b[0;32m    641\u001b[0m     n_features_to_select\u001b[39m=\u001b[39;49mn_features_to_select,\n\u001b[0;32m    642\u001b[0m     transform_target\u001b[39m=\u001b[39;49mtransform_target,\n\u001b[0;32m    643\u001b[0m     transform_target_method\u001b[39m=\u001b[39;49mtransform_target_method,\n\u001b[0;32m    644\u001b[0m     custom_pipeline\u001b[39m=\u001b[39;49mcustom_pipeline,\n\u001b[0;32m    645\u001b[0m     custom_pipeline_position\u001b[39m=\u001b[39;49mcustom_pipeline_position,\n\u001b[0;32m    646\u001b[0m     data_split_shuffle\u001b[39m=\u001b[39;49mdata_split_shuffle,\n\u001b[0;32m    647\u001b[0m     data_split_stratify\u001b[39m=\u001b[39;49mdata_split_stratify,\n\u001b[0;32m    648\u001b[0m     fold_strategy\u001b[39m=\u001b[39;49mfold_strategy,\n\u001b[0;32m    649\u001b[0m     fold\u001b[39m=\u001b[39;49mfold,\n\u001b[0;32m    650\u001b[0m     fold_shuffle\u001b[39m=\u001b[39;49mfold_shuffle,\n\u001b[0;32m    651\u001b[0m     fold_groups\u001b[39m=\u001b[39;49mfold_groups,\n\u001b[0;32m    652\u001b[0m     n_jobs\u001b[39m=\u001b[39;49mn_jobs,\n\u001b[0;32m    653\u001b[0m     use_gpu\u001b[39m=\u001b[39;49muse_gpu,\n\u001b[0;32m    654\u001b[0m     html\u001b[39m=\u001b[39;49mhtml,\n\u001b[0;32m    655\u001b[0m     session_id\u001b[39m=\u001b[39;49msession_id,\n\u001b[0;32m    656\u001b[0m     system_log\u001b[39m=\u001b[39;49msystem_log,\n\u001b[0;32m    657\u001b[0m     log_experiment\u001b[39m=\u001b[39;49mlog_experiment,\n\u001b[0;32m    658\u001b[0m     experiment_name\u001b[39m=\u001b[39;49mexperiment_name,\n\u001b[0;32m    659\u001b[0m     experiment_custom_tags\u001b[39m=\u001b[39;49mexperiment_custom_tags,\n\u001b[0;32m    660\u001b[0m     log_plots\u001b[39m=\u001b[39;49mlog_plots,\n\u001b[0;32m    661\u001b[0m     log_profile\u001b[39m=\u001b[39;49mlog_profile,\n\u001b[0;32m    662\u001b[0m     log_data\u001b[39m=\u001b[39;49mlog_data,\n\u001b[0;32m    663\u001b[0m     verbose\u001b[39m=\u001b[39;49mverbose,\n\u001b[0;32m    664\u001b[0m     memory\u001b[39m=\u001b[39;49mmemory,\n\u001b[0;32m    665\u001b[0m     profile\u001b[39m=\u001b[39;49mprofile,\n\u001b[0;32m    666\u001b[0m     profile_kwargs\u001b[39m=\u001b[39;49mprofile_kwargs,\n\u001b[0;32m    667\u001b[0m )\n",
      "File \u001b[1;32m~\\AppData\\Roaming\\Python\\Python310\\site-packages\\pycaret\\regression\\oop.py:715\u001b[0m, in \u001b[0;36mRegressionExperiment.setup\u001b[1;34m(self, data, data_func, target, index, train_size, test_data, ordinal_features, numeric_features, categorical_features, date_features, text_features, ignore_features, keep_features, preprocess, create_date_columns, imputation_type, numeric_imputation, categorical_imputation, iterative_imputation_iters, numeric_iterative_imputer, categorical_iterative_imputer, text_features_method, max_encoding_ohe, encoding_method, rare_to_value, rare_value, polynomial_features, polynomial_degree, low_variance_threshold, group_features, group_names, remove_multicollinearity, multicollinearity_threshold, bin_numeric_features, remove_outliers, outliers_method, outliers_threshold, transformation, transformation_method, normalize, normalize_method, pca, pca_method, pca_components, feature_selection, feature_selection_method, feature_selection_estimator, n_features_to_select, transform_target, transform_target_method, custom_pipeline, custom_pipeline_position, data_split_shuffle, data_split_stratify, fold_strategy, fold, fold_shuffle, fold_groups, n_jobs, use_gpu, html, session_id, system_log, log_experiment, experiment_name, experiment_custom_tags, log_plots, log_profile, log_data, engine, verbose, memory, profile, profile_kwargs)\u001b[0m\n\u001b[0;32m    711\u001b[0m \u001b[39mself\u001b[39m\u001b[39m.\u001b[39mtransform_target_method \u001b[39m=\u001b[39m transform_target_method\n\u001b[0;32m    713\u001b[0m \u001b[39m# Set up data ============================================== >>\u001b[39;00m\n\u001b[1;32m--> 715\u001b[0m \u001b[39mself\u001b[39m\u001b[39m.\u001b[39mdata \u001b[39m=\u001b[39m \u001b[39mself\u001b[39;49m\u001b[39m.\u001b[39;49m_prepare_dataset(data, target)\n\u001b[0;32m    716\u001b[0m \u001b[39mself\u001b[39m\u001b[39m.\u001b[39mtarget_param \u001b[39m=\u001b[39m \u001b[39mself\u001b[39m\u001b[39m.\u001b[39mdata\u001b[39m.\u001b[39mcolumns[\u001b[39m-\u001b[39m\u001b[39m1\u001b[39m]\n\u001b[0;32m    717\u001b[0m \u001b[39mself\u001b[39m\u001b[39m.\u001b[39mindex \u001b[39m=\u001b[39m index\n",
      "File \u001b[1;32m~\\AppData\\Roaming\\Python\\Python310\\site-packages\\pycaret\\internal\\preprocess\\preprocessor.py:163\u001b[0m, in \u001b[0;36mPreprocessor._prepare_dataset\u001b[1;34m(self, X, y)\u001b[0m\n\u001b[0;32m    156\u001b[0m \u001b[39mif\u001b[39;00m y\u001b[39m.\u001b[39misna()\u001b[39m.\u001b[39many():\n\u001b[0;32m    157\u001b[0m     \u001b[39mraise\u001b[39;00m \u001b[39mValueError\u001b[39;00m(\n\u001b[0;32m    158\u001b[0m         \u001b[39mf\u001b[39m\u001b[39m\"\u001b[39m\u001b[39m{\u001b[39;00my\u001b[39m.\u001b[39misna()\u001b[39m.\u001b[39msum()\u001b[39m}\u001b[39;00m\u001b[39m missing values found in the target column: \u001b[39m\u001b[39m\"\u001b[39m\n\u001b[0;32m    159\u001b[0m         \u001b[39mf\u001b[39m\u001b[39m\"\u001b[39m\u001b[39m{\u001b[39;00my\u001b[39m.\u001b[39mname\u001b[39m}\u001b[39;00m\u001b[39m. To proceed, remove the respective rows from the data. \u001b[39m\u001b[39m\"\u001b[39m\n\u001b[0;32m    160\u001b[0m     )\n\u001b[0;32m    162\u001b[0m \u001b[39mreturn\u001b[39;00m df_shrink_dtypes(\n\u001b[1;32m--> 163\u001b[0m     X\u001b[39m.\u001b[39;49mmerge(y\u001b[39m.\u001b[39;49mto_frame(), left_index\u001b[39m=\u001b[39;49m\u001b[39mTrue\u001b[39;49;00m, right_index\u001b[39m=\u001b[39;49m\u001b[39mTrue\u001b[39;49;00m)\n\u001b[0;32m    164\u001b[0m )\n",
      "File \u001b[1;32m~\\AppData\\Roaming\\Python\\Python310\\site-packages\\pandas\\core\\frame.py:9354\u001b[0m, in \u001b[0;36mDataFrame.merge\u001b[1;34m(self, right, how, on, left_on, right_on, left_index, right_index, sort, suffixes, copy, indicator, validate)\u001b[0m\n\u001b[0;32m   9335\u001b[0m \u001b[39m@Substitution\u001b[39m(\u001b[39m\"\u001b[39m\u001b[39m\"\u001b[39m)\n\u001b[0;32m   9336\u001b[0m \u001b[39m@Appender\u001b[39m(_merge_doc, indents\u001b[39m=\u001b[39m\u001b[39m2\u001b[39m)\n\u001b[0;32m   9337\u001b[0m \u001b[39mdef\u001b[39;00m \u001b[39mmerge\u001b[39m(\n\u001b[1;32m   (...)\u001b[0m\n\u001b[0;32m   9350\u001b[0m     validate: \u001b[39mstr\u001b[39m \u001b[39m|\u001b[39m \u001b[39mNone\u001b[39;00m \u001b[39m=\u001b[39m \u001b[39mNone\u001b[39;00m,\n\u001b[0;32m   9351\u001b[0m ) \u001b[39m-\u001b[39m\u001b[39m>\u001b[39m DataFrame:\n\u001b[0;32m   9352\u001b[0m     \u001b[39mfrom\u001b[39;00m \u001b[39mpandas\u001b[39;00m\u001b[39m.\u001b[39;00m\u001b[39mcore\u001b[39;00m\u001b[39m.\u001b[39;00m\u001b[39mreshape\u001b[39;00m\u001b[39m.\u001b[39;00m\u001b[39mmerge\u001b[39;00m \u001b[39mimport\u001b[39;00m merge\n\u001b[1;32m-> 9354\u001b[0m     \u001b[39mreturn\u001b[39;00m merge(\n\u001b[0;32m   9355\u001b[0m         \u001b[39mself\u001b[39;49m,\n\u001b[0;32m   9356\u001b[0m         right,\n\u001b[0;32m   9357\u001b[0m         how\u001b[39m=\u001b[39;49mhow,\n\u001b[0;32m   9358\u001b[0m         on\u001b[39m=\u001b[39;49mon,\n\u001b[0;32m   9359\u001b[0m         left_on\u001b[39m=\u001b[39;49mleft_on,\n\u001b[0;32m   9360\u001b[0m         right_on\u001b[39m=\u001b[39;49mright_on,\n\u001b[0;32m   9361\u001b[0m         left_index\u001b[39m=\u001b[39;49mleft_index,\n\u001b[0;32m   9362\u001b[0m         right_index\u001b[39m=\u001b[39;49mright_index,\n\u001b[0;32m   9363\u001b[0m         sort\u001b[39m=\u001b[39;49msort,\n\u001b[0;32m   9364\u001b[0m         suffixes\u001b[39m=\u001b[39;49msuffixes,\n\u001b[0;32m   9365\u001b[0m         copy\u001b[39m=\u001b[39;49mcopy,\n\u001b[0;32m   9366\u001b[0m         indicator\u001b[39m=\u001b[39;49mindicator,\n\u001b[0;32m   9367\u001b[0m         validate\u001b[39m=\u001b[39;49mvalidate,\n\u001b[0;32m   9368\u001b[0m     )\n",
      "File \u001b[1;32m~\\AppData\\Roaming\\Python\\Python310\\site-packages\\pandas\\core\\reshape\\merge.py:122\u001b[0m, in \u001b[0;36mmerge\u001b[1;34m(left, right, how, on, left_on, right_on, left_index, right_index, sort, suffixes, copy, indicator, validate)\u001b[0m\n\u001b[0;32m     90\u001b[0m \u001b[39m@Substitution\u001b[39m(\u001b[39m\"\u001b[39m\u001b[39m\\n\u001b[39;00m\u001b[39mleft : DataFrame or named Series\u001b[39m\u001b[39m\"\u001b[39m)\n\u001b[0;32m     91\u001b[0m \u001b[39m@Appender\u001b[39m(_merge_doc, indents\u001b[39m=\u001b[39m\u001b[39m0\u001b[39m)\n\u001b[0;32m     92\u001b[0m \u001b[39mdef\u001b[39;00m \u001b[39mmerge\u001b[39m(\n\u001b[1;32m   (...)\u001b[0m\n\u001b[0;32m    105\u001b[0m     validate: \u001b[39mstr\u001b[39m \u001b[39m|\u001b[39m \u001b[39mNone\u001b[39;00m \u001b[39m=\u001b[39m \u001b[39mNone\u001b[39;00m,\n\u001b[0;32m    106\u001b[0m ) \u001b[39m-\u001b[39m\u001b[39m>\u001b[39m DataFrame:\n\u001b[0;32m    107\u001b[0m     op \u001b[39m=\u001b[39m _MergeOperation(\n\u001b[0;32m    108\u001b[0m         left,\n\u001b[0;32m    109\u001b[0m         right,\n\u001b[1;32m   (...)\u001b[0m\n\u001b[0;32m    120\u001b[0m         validate\u001b[39m=\u001b[39mvalidate,\n\u001b[0;32m    121\u001b[0m     )\n\u001b[1;32m--> 122\u001b[0m     \u001b[39mreturn\u001b[39;00m op\u001b[39m.\u001b[39;49mget_result()\n",
      "File \u001b[1;32m~\\AppData\\Roaming\\Python\\Python310\\site-packages\\pandas\\core\\reshape\\merge.py:725\u001b[0m, in \u001b[0;36m_MergeOperation.get_result\u001b[1;34m(self)\u001b[0m\n\u001b[0;32m    722\u001b[0m lindexers \u001b[39m=\u001b[39m {\u001b[39m1\u001b[39m: left_indexer} \u001b[39mif\u001b[39;00m left_indexer \u001b[39mis\u001b[39;00m \u001b[39mnot\u001b[39;00m \u001b[39mNone\u001b[39;00m \u001b[39melse\u001b[39;00m {}\n\u001b[0;32m    723\u001b[0m rindexers \u001b[39m=\u001b[39m {\u001b[39m1\u001b[39m: right_indexer} \u001b[39mif\u001b[39;00m right_indexer \u001b[39mis\u001b[39;00m \u001b[39mnot\u001b[39;00m \u001b[39mNone\u001b[39;00m \u001b[39melse\u001b[39;00m {}\n\u001b[1;32m--> 725\u001b[0m result_data \u001b[39m=\u001b[39m concatenate_managers(\n\u001b[0;32m    726\u001b[0m     [(\u001b[39mself\u001b[39;49m\u001b[39m.\u001b[39;49mleft\u001b[39m.\u001b[39;49m_mgr, lindexers), (\u001b[39mself\u001b[39;49m\u001b[39m.\u001b[39;49mright\u001b[39m.\u001b[39;49m_mgr, rindexers)],\n\u001b[0;32m    727\u001b[0m     axes\u001b[39m=\u001b[39;49m[llabels\u001b[39m.\u001b[39;49mappend(rlabels), join_index],\n\u001b[0;32m    728\u001b[0m     concat_axis\u001b[39m=\u001b[39;49m\u001b[39m0\u001b[39;49m,\n\u001b[0;32m    729\u001b[0m     copy\u001b[39m=\u001b[39;49m\u001b[39mself\u001b[39;49m\u001b[39m.\u001b[39;49mcopy,\n\u001b[0;32m    730\u001b[0m )\n\u001b[0;32m    732\u001b[0m typ \u001b[39m=\u001b[39m \u001b[39mself\u001b[39m\u001b[39m.\u001b[39mleft\u001b[39m.\u001b[39m_constructor\n\u001b[0;32m    733\u001b[0m result \u001b[39m=\u001b[39m typ(result_data)\u001b[39m.\u001b[39m__finalize__(\u001b[39mself\u001b[39m, method\u001b[39m=\u001b[39m\u001b[39mself\u001b[39m\u001b[39m.\u001b[39m_merge_type)\n",
      "File \u001b[1;32m~\\AppData\\Roaming\\Python\\Python310\\site-packages\\pandas\\core\\internals\\concat.py:242\u001b[0m, in \u001b[0;36mconcatenate_managers\u001b[1;34m(mgrs_indexers, axes, concat_axis, copy)\u001b[0m\n\u001b[0;32m    240\u001b[0m     fastpath \u001b[39m=\u001b[39m blk\u001b[39m.\u001b[39mvalues\u001b[39m.\u001b[39mdtype \u001b[39m==\u001b[39m values\u001b[39m.\u001b[39mdtype\n\u001b[0;32m    241\u001b[0m \u001b[39melse\u001b[39;00m:\n\u001b[1;32m--> 242\u001b[0m     values \u001b[39m=\u001b[39m _concatenate_join_units(join_units, concat_axis, copy\u001b[39m=\u001b[39;49mcopy)\n\u001b[0;32m    243\u001b[0m     fastpath \u001b[39m=\u001b[39m \u001b[39mFalse\u001b[39;00m\n\u001b[0;32m    245\u001b[0m \u001b[39mif\u001b[39;00m fastpath:\n",
      "File \u001b[1;32m~\\AppData\\Roaming\\Python\\Python310\\site-packages\\pandas\\core\\internals\\concat.py:550\u001b[0m, in \u001b[0;36m_concatenate_join_units\u001b[1;34m(join_units, concat_axis, copy)\u001b[0m\n\u001b[0;32m    547\u001b[0m has_none_blocks \u001b[39m=\u001b[39m \u001b[39many\u001b[39m(unit\u001b[39m.\u001b[39mblock\u001b[39m.\u001b[39mdtype\u001b[39m.\u001b[39mkind \u001b[39m==\u001b[39m \u001b[39m\"\u001b[39m\u001b[39mV\u001b[39m\u001b[39m\"\u001b[39m \u001b[39mfor\u001b[39;00m unit \u001b[39min\u001b[39;00m join_units)\n\u001b[0;32m    548\u001b[0m upcasted_na \u001b[39m=\u001b[39m _dtype_to_na_value(empty_dtype, has_none_blocks)\n\u001b[1;32m--> 550\u001b[0m to_concat \u001b[39m=\u001b[39m [\n\u001b[0;32m    551\u001b[0m     ju\u001b[39m.\u001b[39mget_reindexed_values(empty_dtype\u001b[39m=\u001b[39mempty_dtype, upcasted_na\u001b[39m=\u001b[39mupcasted_na)\n\u001b[0;32m    552\u001b[0m     \u001b[39mfor\u001b[39;00m ju \u001b[39min\u001b[39;00m join_units\n\u001b[0;32m    553\u001b[0m ]\n\u001b[0;32m    555\u001b[0m \u001b[39mif\u001b[39;00m \u001b[39mlen\u001b[39m(to_concat) \u001b[39m==\u001b[39m \u001b[39m1\u001b[39m:\n\u001b[0;32m    556\u001b[0m     \u001b[39m# Only one block, nothing to concatenate.\u001b[39;00m\n\u001b[0;32m    557\u001b[0m     concat_values \u001b[39m=\u001b[39m to_concat[\u001b[39m0\u001b[39m]\n",
      "File \u001b[1;32m~\\AppData\\Roaming\\Python\\Python310\\site-packages\\pandas\\core\\internals\\concat.py:551\u001b[0m, in \u001b[0;36m<listcomp>\u001b[1;34m(.0)\u001b[0m\n\u001b[0;32m    547\u001b[0m has_none_blocks \u001b[39m=\u001b[39m \u001b[39many\u001b[39m(unit\u001b[39m.\u001b[39mblock\u001b[39m.\u001b[39mdtype\u001b[39m.\u001b[39mkind \u001b[39m==\u001b[39m \u001b[39m\"\u001b[39m\u001b[39mV\u001b[39m\u001b[39m\"\u001b[39m \u001b[39mfor\u001b[39;00m unit \u001b[39min\u001b[39;00m join_units)\n\u001b[0;32m    548\u001b[0m upcasted_na \u001b[39m=\u001b[39m _dtype_to_na_value(empty_dtype, has_none_blocks)\n\u001b[0;32m    550\u001b[0m to_concat \u001b[39m=\u001b[39m [\n\u001b[1;32m--> 551\u001b[0m     ju\u001b[39m.\u001b[39;49mget_reindexed_values(empty_dtype\u001b[39m=\u001b[39;49mempty_dtype, upcasted_na\u001b[39m=\u001b[39;49mupcasted_na)\n\u001b[0;32m    552\u001b[0m     \u001b[39mfor\u001b[39;00m ju \u001b[39min\u001b[39;00m join_units\n\u001b[0;32m    553\u001b[0m ]\n\u001b[0;32m    555\u001b[0m \u001b[39mif\u001b[39;00m \u001b[39mlen\u001b[39m(to_concat) \u001b[39m==\u001b[39m \u001b[39m1\u001b[39m:\n\u001b[0;32m    556\u001b[0m     \u001b[39m# Only one block, nothing to concatenate.\u001b[39;00m\n\u001b[0;32m    557\u001b[0m     concat_values \u001b[39m=\u001b[39m to_concat[\u001b[39m0\u001b[39m]\n",
      "File \u001b[1;32m~\\AppData\\Roaming\\Python\\Python310\\site-packages\\pandas\\core\\internals\\concat.py:530\u001b[0m, in \u001b[0;36mJoinUnit.get_reindexed_values\u001b[1;34m(self, empty_dtype, upcasted_na)\u001b[0m\n\u001b[0;32m    528\u001b[0m \u001b[39melse\u001b[39;00m:\n\u001b[0;32m    529\u001b[0m     \u001b[39mfor\u001b[39;00m ax, indexer \u001b[39min\u001b[39;00m \u001b[39mself\u001b[39m\u001b[39m.\u001b[39mindexers\u001b[39m.\u001b[39mitems():\n\u001b[1;32m--> 530\u001b[0m         values \u001b[39m=\u001b[39m algos\u001b[39m.\u001b[39;49mtake_nd(values, indexer, axis\u001b[39m=\u001b[39;49max)\n\u001b[0;32m    532\u001b[0m \u001b[39mreturn\u001b[39;00m values\n",
      "File \u001b[1;32m~\\AppData\\Roaming\\Python\\Python310\\site-packages\\pandas\\core\\array_algos\\take.py:117\u001b[0m, in \u001b[0;36mtake_nd\u001b[1;34m(arr, indexer, axis, fill_value, allow_fill)\u001b[0m\n\u001b[0;32m    114\u001b[0m     \u001b[39mreturn\u001b[39;00m arr\u001b[39m.\u001b[39mtake(indexer, fill_value\u001b[39m=\u001b[39mfill_value, allow_fill\u001b[39m=\u001b[39mallow_fill)\n\u001b[0;32m    116\u001b[0m arr \u001b[39m=\u001b[39m np\u001b[39m.\u001b[39masarray(arr)\n\u001b[1;32m--> 117\u001b[0m \u001b[39mreturn\u001b[39;00m _take_nd_ndarray(arr, indexer, axis, fill_value, allow_fill)\n",
      "File \u001b[1;32m~\\AppData\\Roaming\\Python\\Python310\\site-packages\\pandas\\core\\array_algos\\take.py:158\u001b[0m, in \u001b[0;36m_take_nd_ndarray\u001b[1;34m(arr, indexer, axis, fill_value, allow_fill)\u001b[0m\n\u001b[0;32m    156\u001b[0m     out \u001b[39m=\u001b[39m np\u001b[39m.\u001b[39mempty(out_shape, dtype\u001b[39m=\u001b[39mdtype, order\u001b[39m=\u001b[39m\u001b[39m\"\u001b[39m\u001b[39mF\u001b[39m\u001b[39m\"\u001b[39m)\n\u001b[0;32m    157\u001b[0m \u001b[39melse\u001b[39;00m:\n\u001b[1;32m--> 158\u001b[0m     out \u001b[39m=\u001b[39m np\u001b[39m.\u001b[39;49mempty(out_shape, dtype\u001b[39m=\u001b[39;49mdtype)\n\u001b[0;32m    160\u001b[0m func \u001b[39m=\u001b[39m _get_take_nd_function(\n\u001b[0;32m    161\u001b[0m     arr\u001b[39m.\u001b[39mndim, arr\u001b[39m.\u001b[39mdtype, out\u001b[39m.\u001b[39mdtype, axis\u001b[39m=\u001b[39maxis, mask_info\u001b[39m=\u001b[39mmask_info\n\u001b[0;32m    162\u001b[0m )\n\u001b[0;32m    163\u001b[0m func(arr, indexer, out, fill_value)\n",
      "\u001b[1;31mMemoryError\u001b[0m: Unable to allocate 71.9 GiB for an array with shape (36, 268136000) and data type float64"
     ]
    }
   ],
   "source": [
    "exp_clf = setup(data = train, target = 'num', fold_shuffle=True, session_id=123)"
   ]
  },
  {
   "cell_type": "code",
   "execution_count": null,
   "metadata": {
    "colab": {
     "base_uri": "https://localhost:8080/",
     "height": 1000,
     "referenced_widgets": [
      "2ece921471e74c248fb774d3237d71f4",
      "089115b57360499ba780cdd2e4c3ec90",
      "43b4ee0541b545c1bd858dc71dd5682b",
      "3a118315ffec46288f104a8e5ae8071f",
      "5da6d9510e244d5ba1f8b5838e6ec6f4",
      "c59d94cc26ce46009674ad440303bc0c"
     ]
    },
    "id": "jH13Pf0A_ZTm",
    "outputId": "0814410d-0467-42f9-efcb-f07648410332",
    "scrolled": false
   },
   "outputs": [],
   "source": [
    "best = compare_models(sort='r2', n_select=3)"
   ]
  },
  {
   "cell_type": "code",
   "execution_count": null,
   "metadata": {},
   "outputs": [],
   "source": [
    "# # 모델 생성하는 법\n",
    "# lgbm = create_model('lightgbm')\n",
    "\n",
    "# # 하이퍼 파라미터 튜닝 하는 법\n",
    "# tuned_lgbm = tune_model(lgbm, n_iter = 1000, optimize = 'R2', choose_better = True)\n",
    "# tuned_lgbm\n",
    "\n",
    "# # 모델 생성하는 법\n",
    "# br = create_model('br')\n",
    "\n",
    "# # 하이퍼 파라미터 튜닝 하는 법\n",
    "# tuned_br = tune_model(br, n_iter = 100, optimize = 'R2', choose_better = True)\n",
    "# tuned_br\n",
    "\n",
    "# # 모델 블랜딩 하는 법\n",
    "# blender_3 = blend_models([tuned_lgbm, tuned_br])\n",
    "# blender_3\n",
    "\n",
    "# # 모델 앙상블 하는 법\n",
    "# esemble_lgbm = ensemble_model(lgbm, fold = 5, n_estimators = 100, choose_better = True)\n",
    "# esemble_lgbm\n",
    "# esemble_lgbm_tuned = ensemble_model(tuned_lgbm, fold = 10, n_estimators = 100, choose_better = True)\n",
    "# esemble_lgbm_tuned\n",
    "# esemble_blender_3 = ensemble_model(blender_3, fold = 10, n_estimators = 100, choose_better = True)\n",
    "# esemble_blender_3\n",
    "\n",
    "# 최종 모델\n",
    "# final_model = finalize_model(esemble_lgbm_tuned)\n",
    "# final_model\n",
    "\n",
    "# predict 하는 법\n",
    "# prediction = predict_model(final_model, data = x_test)\n",
    "\n",
    "# y_pred = prediction['Label']\n",
    "\n",
    "# MAE =  mean_absolute_error(y_test, y_pred)\n",
    "# MSE = mean_squared_error(y_test, y_pred)\n",
    "# RMSE = np.sqrt(MSE)\n",
    "# MSLE = mean_squared_log_error(y_test, y_pred)\n",
    "# RMSLE = np.sqrt(mean_squared_log_error(y_test, y_pred))\n",
    "# R2 = r2_score(y_test, y_pred)\n",
    "\n",
    "# print(MAE, MSE, RMSE, MSLE, RMSLE, R2, sep='\\n')\n",
    "\n",
    "# fig = plt.figure(figsize=(30,10))\n",
    "# fig.add_subplot()\n",
    "\n",
    "# plt.plot(y_pred[:200].tolist(), label='Prediction', color='red')\n",
    "# plt.plot(y_test[:200].tolist(), label='Test', color='green')\n",
    "# plt.legend(fontsize = 30)"
   ]
  }
 ],
 "metadata": {
  "kernelspec": {
   "display_name": "Python 3.10.6 ('bus_proj')",
   "language": "python",
   "name": "python3"
  },
  "language_info": {
   "codemirror_mode": {
    "name": "ipython",
    "version": 3
   },
   "file_extension": ".py",
   "mimetype": "text/x-python",
   "name": "python",
   "nbconvert_exporter": "python",
   "pygments_lexer": "ipython3",
   "version": "3.10.6"
  },
  "orig_nbformat": 4,
  "vscode": {
   "interpreter": {
    "hash": "182aa2bc8953610281ff3926af2235463d9a5e251f69f24755a01c30371a38b1"
   }
  }
 },
 "nbformat": 4,
 "nbformat_minor": 2
}
