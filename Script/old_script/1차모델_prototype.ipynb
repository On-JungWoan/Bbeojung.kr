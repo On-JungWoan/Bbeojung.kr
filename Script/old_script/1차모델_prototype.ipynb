{
  "cells": [
    {
      "cell_type": "markdown",
      "metadata": {
        "id": "azaEn9zb_ZTS"
      },
      "source": [
        "# **0. 사용 모듈**\n",
        "---"
      ]
    },
    {
      "cell_type": "code",
      "execution_count": null,
      "metadata": {
        "id": "fxYD048k_ZTU"
      },
      "outputs": [],
      "source": [
        "# Data Handling\n",
        "import pandas as pd\n",
        "import datetime as dt\n",
        "\n",
        "# Data Visualizing\n",
        "import matplotlib.pyplot as plt\n",
        "import missingno as msno\n",
        "from tqdm import tqdm\n",
        "\n",
        "# etc.\n",
        "import warnings\n",
        "warnings.filterwarnings('ignore')"
      ]
    },
    {
      "cell_type": "markdown",
      "metadata": {
        "id": "4cPXHA7i_ZTV"
      },
      "source": [
        "# **1. 데이터 불러오기**\n",
        "---"
      ]
    },
    {
      "cell_type": "code",
      "source": [
        "# colab 환경설정\n",
        "from google.colab import drive\n",
        "drive.mount('/content/drive')"
      ],
      "metadata": {
        "colab": {
          "base_uri": "https://localhost:8080/"
        },
        "id": "crhqBHD0_txa",
        "outputId": "0b746d77-8674-4915-bfd0-d61aa0f23618"
      },
      "execution_count": null,
      "outputs": [
        {
          "output_type": "stream",
          "name": "stdout",
          "text": [
            "Mounted at /content/drive\n"
          ]
        }
      ]
    },
    {
      "cell_type": "code",
      "execution_count": null,
      "metadata": {
        "id": "avfgJNR2_ZTW",
        "outputId": "826b13d5-edf1-4692-f490-3ad197e96495",
        "colab": {
          "base_uri": "https://localhost:8080/"
        }
      },
      "outputs": [
        {
          "output_type": "stream",
          "name": "stderr",
          "text": [
            "100%|██████████| 59/59 [00:03<00:00, 15.02it/s]\n"
          ]
        }
      ],
      "source": [
        "df_list = []\n",
        "\n",
        "for i in tqdm( range(1,60) ):\n",
        "    df_list.append( pd.read_csv(str(i)+\".csv\", encoding='cp949') )\n",
        "    \n",
        "df = pd.concat( df_list ).reset_index()"
      ]
    },
    {
      "cell_type": "code",
      "execution_count": null,
      "metadata": {
        "id": "FQOejo9p_ZTX",
        "outputId": "5518c260-c8b6-4ac6-da53-adefdc6f2bae",
        "colab": {
          "base_uri": "https://localhost:8080/",
          "height": 206
        }
      },
      "outputs": [
        {
          "output_type": "execute_result",
          "data": {
            "text/plain": [
              "   index        일자   노선명   정류장명  ARS_ID  시간 승하차  거래건수\n",
              "0      0  20220301  1187   4수원지  4263.0  10  승차     1\n",
              "1      1  20220301  1187   4수원지  4264.0  12  승차     1\n",
              "2      2  20220301  1187   4수원지  4264.0  13  하차     1\n",
              "3      3  20220301  1187  4수원지위  4268.0  11  하차     1\n",
              "4      4  20220301  1187  4수원지위  4268.0  13  하차     2"
            ],
            "text/html": [
              "\n",
              "  <div id=\"df-fa1f9150-4336-4776-a690-ff50d5da5264\">\n",
              "    <div class=\"colab-df-container\">\n",
              "      <div>\n",
              "<style scoped>\n",
              "    .dataframe tbody tr th:only-of-type {\n",
              "        vertical-align: middle;\n",
              "    }\n",
              "\n",
              "    .dataframe tbody tr th {\n",
              "        vertical-align: top;\n",
              "    }\n",
              "\n",
              "    .dataframe thead th {\n",
              "        text-align: right;\n",
              "    }\n",
              "</style>\n",
              "<table border=\"1\" class=\"dataframe\">\n",
              "  <thead>\n",
              "    <tr style=\"text-align: right;\">\n",
              "      <th></th>\n",
              "      <th>index</th>\n",
              "      <th>일자</th>\n",
              "      <th>노선명</th>\n",
              "      <th>정류장명</th>\n",
              "      <th>ARS_ID</th>\n",
              "      <th>시간</th>\n",
              "      <th>승하차</th>\n",
              "      <th>거래건수</th>\n",
              "    </tr>\n",
              "  </thead>\n",
              "  <tbody>\n",
              "    <tr>\n",
              "      <th>0</th>\n",
              "      <td>0</td>\n",
              "      <td>20220301</td>\n",
              "      <td>1187</td>\n",
              "      <td>4수원지</td>\n",
              "      <td>4263.0</td>\n",
              "      <td>10</td>\n",
              "      <td>승차</td>\n",
              "      <td>1</td>\n",
              "    </tr>\n",
              "    <tr>\n",
              "      <th>1</th>\n",
              "      <td>1</td>\n",
              "      <td>20220301</td>\n",
              "      <td>1187</td>\n",
              "      <td>4수원지</td>\n",
              "      <td>4264.0</td>\n",
              "      <td>12</td>\n",
              "      <td>승차</td>\n",
              "      <td>1</td>\n",
              "    </tr>\n",
              "    <tr>\n",
              "      <th>2</th>\n",
              "      <td>2</td>\n",
              "      <td>20220301</td>\n",
              "      <td>1187</td>\n",
              "      <td>4수원지</td>\n",
              "      <td>4264.0</td>\n",
              "      <td>13</td>\n",
              "      <td>하차</td>\n",
              "      <td>1</td>\n",
              "    </tr>\n",
              "    <tr>\n",
              "      <th>3</th>\n",
              "      <td>3</td>\n",
              "      <td>20220301</td>\n",
              "      <td>1187</td>\n",
              "      <td>4수원지위</td>\n",
              "      <td>4268.0</td>\n",
              "      <td>11</td>\n",
              "      <td>하차</td>\n",
              "      <td>1</td>\n",
              "    </tr>\n",
              "    <tr>\n",
              "      <th>4</th>\n",
              "      <td>4</td>\n",
              "      <td>20220301</td>\n",
              "      <td>1187</td>\n",
              "      <td>4수원지위</td>\n",
              "      <td>4268.0</td>\n",
              "      <td>13</td>\n",
              "      <td>하차</td>\n",
              "      <td>2</td>\n",
              "    </tr>\n",
              "  </tbody>\n",
              "</table>\n",
              "</div>\n",
              "      <button class=\"colab-df-convert\" onclick=\"convertToInteractive('df-fa1f9150-4336-4776-a690-ff50d5da5264')\"\n",
              "              title=\"Convert this dataframe to an interactive table.\"\n",
              "              style=\"display:none;\">\n",
              "        \n",
              "  <svg xmlns=\"http://www.w3.org/2000/svg\" height=\"24px\"viewBox=\"0 0 24 24\"\n",
              "       width=\"24px\">\n",
              "    <path d=\"M0 0h24v24H0V0z\" fill=\"none\"/>\n",
              "    <path d=\"M18.56 5.44l.94 2.06.94-2.06 2.06-.94-2.06-.94-.94-2.06-.94 2.06-2.06.94zm-11 1L8.5 8.5l.94-2.06 2.06-.94-2.06-.94L8.5 2.5l-.94 2.06-2.06.94zm10 10l.94 2.06.94-2.06 2.06-.94-2.06-.94-.94-2.06-.94 2.06-2.06.94z\"/><path d=\"M17.41 7.96l-1.37-1.37c-.4-.4-.92-.59-1.43-.59-.52 0-1.04.2-1.43.59L10.3 9.45l-7.72 7.72c-.78.78-.78 2.05 0 2.83L4 21.41c.39.39.9.59 1.41.59.51 0 1.02-.2 1.41-.59l7.78-7.78 2.81-2.81c.8-.78.8-2.07 0-2.86zM5.41 20L4 18.59l7.72-7.72 1.47 1.35L5.41 20z\"/>\n",
              "  </svg>\n",
              "      </button>\n",
              "      \n",
              "  <style>\n",
              "    .colab-df-container {\n",
              "      display:flex;\n",
              "      flex-wrap:wrap;\n",
              "      gap: 12px;\n",
              "    }\n",
              "\n",
              "    .colab-df-convert {\n",
              "      background-color: #E8F0FE;\n",
              "      border: none;\n",
              "      border-radius: 50%;\n",
              "      cursor: pointer;\n",
              "      display: none;\n",
              "      fill: #1967D2;\n",
              "      height: 32px;\n",
              "      padding: 0 0 0 0;\n",
              "      width: 32px;\n",
              "    }\n",
              "\n",
              "    .colab-df-convert:hover {\n",
              "      background-color: #E2EBFA;\n",
              "      box-shadow: 0px 1px 2px rgba(60, 64, 67, 0.3), 0px 1px 3px 1px rgba(60, 64, 67, 0.15);\n",
              "      fill: #174EA6;\n",
              "    }\n",
              "\n",
              "    [theme=dark] .colab-df-convert {\n",
              "      background-color: #3B4455;\n",
              "      fill: #D2E3FC;\n",
              "    }\n",
              "\n",
              "    [theme=dark] .colab-df-convert:hover {\n",
              "      background-color: #434B5C;\n",
              "      box-shadow: 0px 1px 3px 1px rgba(0, 0, 0, 0.15);\n",
              "      filter: drop-shadow(0px 1px 2px rgba(0, 0, 0, 0.3));\n",
              "      fill: #FFFFFF;\n",
              "    }\n",
              "  </style>\n",
              "\n",
              "      <script>\n",
              "        const buttonEl =\n",
              "          document.querySelector('#df-fa1f9150-4336-4776-a690-ff50d5da5264 button.colab-df-convert');\n",
              "        buttonEl.style.display =\n",
              "          google.colab.kernel.accessAllowed ? 'block' : 'none';\n",
              "\n",
              "        async function convertToInteractive(key) {\n",
              "          const element = document.querySelector('#df-fa1f9150-4336-4776-a690-ff50d5da5264');\n",
              "          const dataTable =\n",
              "            await google.colab.kernel.invokeFunction('convertToInteractive',\n",
              "                                                     [key], {});\n",
              "          if (!dataTable) return;\n",
              "\n",
              "          const docLinkHtml = 'Like what you see? Visit the ' +\n",
              "            '<a target=\"_blank\" href=https://colab.research.google.com/notebooks/data_table.ipynb>data table notebook</a>'\n",
              "            + ' to learn more about interactive tables.';\n",
              "          element.innerHTML = '';\n",
              "          dataTable['output_type'] = 'display_data';\n",
              "          await google.colab.output.renderOutput(dataTable, element);\n",
              "          const docLink = document.createElement('div');\n",
              "          docLink.innerHTML = docLinkHtml;\n",
              "          element.appendChild(docLink);\n",
              "        }\n",
              "      </script>\n",
              "    </div>\n",
              "  </div>\n",
              "  "
            ]
          },
          "metadata": {},
          "execution_count": 6
        }
      ],
      "source": [
        "df.head()"
      ]
    },
    {
      "cell_type": "code",
      "execution_count": null,
      "metadata": {
        "id": "sc9FHDhA_ZTX"
      },
      "outputs": [],
      "source": [
        "df = df.drop(['index'], axis=1)\n",
        "df['ARS_ID'] = df.ARS_ID.astype('object')"
      ]
    },
    {
      "cell_type": "code",
      "execution_count": null,
      "metadata": {
        "id": "nmV0yr0U_ZTY",
        "outputId": "a9395c44-9d63-4822-9ac7-368462e10aa6",
        "colab": {
          "base_uri": "https://localhost:8080/",
          "height": 206
        }
      },
      "outputs": [
        {
          "output_type": "execute_result",
          "data": {
            "text/plain": [
              "         일자   노선명   정류장명  ARS_ID  시간 승하차  거래건수\n",
              "0  20220301  1187   4수원지  4263.0  10  승차     1\n",
              "1  20220301  1187   4수원지  4264.0  12  승차     1\n",
              "2  20220301  1187   4수원지  4264.0  13  하차     1\n",
              "3  20220301  1187  4수원지위  4268.0  11  하차     1\n",
              "4  20220301  1187  4수원지위  4268.0  13  하차     2"
            ],
            "text/html": [
              "\n",
              "  <div id=\"df-b5b1af8d-f00b-44a6-80b7-0d60901b744a\">\n",
              "    <div class=\"colab-df-container\">\n",
              "      <div>\n",
              "<style scoped>\n",
              "    .dataframe tbody tr th:only-of-type {\n",
              "        vertical-align: middle;\n",
              "    }\n",
              "\n",
              "    .dataframe tbody tr th {\n",
              "        vertical-align: top;\n",
              "    }\n",
              "\n",
              "    .dataframe thead th {\n",
              "        text-align: right;\n",
              "    }\n",
              "</style>\n",
              "<table border=\"1\" class=\"dataframe\">\n",
              "  <thead>\n",
              "    <tr style=\"text-align: right;\">\n",
              "      <th></th>\n",
              "      <th>일자</th>\n",
              "      <th>노선명</th>\n",
              "      <th>정류장명</th>\n",
              "      <th>ARS_ID</th>\n",
              "      <th>시간</th>\n",
              "      <th>승하차</th>\n",
              "      <th>거래건수</th>\n",
              "    </tr>\n",
              "  </thead>\n",
              "  <tbody>\n",
              "    <tr>\n",
              "      <th>0</th>\n",
              "      <td>20220301</td>\n",
              "      <td>1187</td>\n",
              "      <td>4수원지</td>\n",
              "      <td>4263.0</td>\n",
              "      <td>10</td>\n",
              "      <td>승차</td>\n",
              "      <td>1</td>\n",
              "    </tr>\n",
              "    <tr>\n",
              "      <th>1</th>\n",
              "      <td>20220301</td>\n",
              "      <td>1187</td>\n",
              "      <td>4수원지</td>\n",
              "      <td>4264.0</td>\n",
              "      <td>12</td>\n",
              "      <td>승차</td>\n",
              "      <td>1</td>\n",
              "    </tr>\n",
              "    <tr>\n",
              "      <th>2</th>\n",
              "      <td>20220301</td>\n",
              "      <td>1187</td>\n",
              "      <td>4수원지</td>\n",
              "      <td>4264.0</td>\n",
              "      <td>13</td>\n",
              "      <td>하차</td>\n",
              "      <td>1</td>\n",
              "    </tr>\n",
              "    <tr>\n",
              "      <th>3</th>\n",
              "      <td>20220301</td>\n",
              "      <td>1187</td>\n",
              "      <td>4수원지위</td>\n",
              "      <td>4268.0</td>\n",
              "      <td>11</td>\n",
              "      <td>하차</td>\n",
              "      <td>1</td>\n",
              "    </tr>\n",
              "    <tr>\n",
              "      <th>4</th>\n",
              "      <td>20220301</td>\n",
              "      <td>1187</td>\n",
              "      <td>4수원지위</td>\n",
              "      <td>4268.0</td>\n",
              "      <td>13</td>\n",
              "      <td>하차</td>\n",
              "      <td>2</td>\n",
              "    </tr>\n",
              "  </tbody>\n",
              "</table>\n",
              "</div>\n",
              "      <button class=\"colab-df-convert\" onclick=\"convertToInteractive('df-b5b1af8d-f00b-44a6-80b7-0d60901b744a')\"\n",
              "              title=\"Convert this dataframe to an interactive table.\"\n",
              "              style=\"display:none;\">\n",
              "        \n",
              "  <svg xmlns=\"http://www.w3.org/2000/svg\" height=\"24px\"viewBox=\"0 0 24 24\"\n",
              "       width=\"24px\">\n",
              "    <path d=\"M0 0h24v24H0V0z\" fill=\"none\"/>\n",
              "    <path d=\"M18.56 5.44l.94 2.06.94-2.06 2.06-.94-2.06-.94-.94-2.06-.94 2.06-2.06.94zm-11 1L8.5 8.5l.94-2.06 2.06-.94-2.06-.94L8.5 2.5l-.94 2.06-2.06.94zm10 10l.94 2.06.94-2.06 2.06-.94-2.06-.94-.94-2.06-.94 2.06-2.06.94z\"/><path d=\"M17.41 7.96l-1.37-1.37c-.4-.4-.92-.59-1.43-.59-.52 0-1.04.2-1.43.59L10.3 9.45l-7.72 7.72c-.78.78-.78 2.05 0 2.83L4 21.41c.39.39.9.59 1.41.59.51 0 1.02-.2 1.41-.59l7.78-7.78 2.81-2.81c.8-.78.8-2.07 0-2.86zM5.41 20L4 18.59l7.72-7.72 1.47 1.35L5.41 20z\"/>\n",
              "  </svg>\n",
              "      </button>\n",
              "      \n",
              "  <style>\n",
              "    .colab-df-container {\n",
              "      display:flex;\n",
              "      flex-wrap:wrap;\n",
              "      gap: 12px;\n",
              "    }\n",
              "\n",
              "    .colab-df-convert {\n",
              "      background-color: #E8F0FE;\n",
              "      border: none;\n",
              "      border-radius: 50%;\n",
              "      cursor: pointer;\n",
              "      display: none;\n",
              "      fill: #1967D2;\n",
              "      height: 32px;\n",
              "      padding: 0 0 0 0;\n",
              "      width: 32px;\n",
              "    }\n",
              "\n",
              "    .colab-df-convert:hover {\n",
              "      background-color: #E2EBFA;\n",
              "      box-shadow: 0px 1px 2px rgba(60, 64, 67, 0.3), 0px 1px 3px 1px rgba(60, 64, 67, 0.15);\n",
              "      fill: #174EA6;\n",
              "    }\n",
              "\n",
              "    [theme=dark] .colab-df-convert {\n",
              "      background-color: #3B4455;\n",
              "      fill: #D2E3FC;\n",
              "    }\n",
              "\n",
              "    [theme=dark] .colab-df-convert:hover {\n",
              "      background-color: #434B5C;\n",
              "      box-shadow: 0px 1px 3px 1px rgba(0, 0, 0, 0.15);\n",
              "      filter: drop-shadow(0px 1px 2px rgba(0, 0, 0, 0.3));\n",
              "      fill: #FFFFFF;\n",
              "    }\n",
              "  </style>\n",
              "\n",
              "      <script>\n",
              "        const buttonEl =\n",
              "          document.querySelector('#df-b5b1af8d-f00b-44a6-80b7-0d60901b744a button.colab-df-convert');\n",
              "        buttonEl.style.display =\n",
              "          google.colab.kernel.accessAllowed ? 'block' : 'none';\n",
              "\n",
              "        async function convertToInteractive(key) {\n",
              "          const element = document.querySelector('#df-b5b1af8d-f00b-44a6-80b7-0d60901b744a');\n",
              "          const dataTable =\n",
              "            await google.colab.kernel.invokeFunction('convertToInteractive',\n",
              "                                                     [key], {});\n",
              "          if (!dataTable) return;\n",
              "\n",
              "          const docLinkHtml = 'Like what you see? Visit the ' +\n",
              "            '<a target=\"_blank\" href=https://colab.research.google.com/notebooks/data_table.ipynb>data table notebook</a>'\n",
              "            + ' to learn more about interactive tables.';\n",
              "          element.innerHTML = '';\n",
              "          dataTable['output_type'] = 'display_data';\n",
              "          await google.colab.output.renderOutput(dataTable, element);\n",
              "          const docLink = document.createElement('div');\n",
              "          docLink.innerHTML = docLinkHtml;\n",
              "          element.appendChild(docLink);\n",
              "        }\n",
              "      </script>\n",
              "    </div>\n",
              "  </div>\n",
              "  "
            ]
          },
          "metadata": {},
          "execution_count": 8
        }
      ],
      "source": [
        "df.head()"
      ]
    },
    {
      "cell_type": "code",
      "execution_count": null,
      "metadata": {
        "id": "ao2X3HZk_ZTY",
        "outputId": "f0cb6fc5-02ee-4d06-eafc-0e3d2cf824ec",
        "colab": {
          "base_uri": "https://localhost:8080/"
        }
      },
      "outputs": [
        {
          "output_type": "stream",
          "name": "stdout",
          "text": [
            "총 관측치의 수: 3,670,384\n"
          ]
        }
      ],
      "source": [
        "print( \"총 관측치의 수: {:,}\".format(len(df)) )"
      ]
    },
    {
      "cell_type": "markdown",
      "metadata": {
        "id": "bfQYhcFk_ZTZ"
      },
      "source": [
        "# **2. EDA**\n",
        "---"
      ]
    },
    {
      "cell_type": "markdown",
      "metadata": {
        "id": "rxQQdC2s_ZTa"
      },
      "source": [
        "### 1) Target 데이터 분포 확인"
      ]
    },
    {
      "cell_type": "code",
      "execution_count": null,
      "metadata": {
        "scrolled": false,
        "id": "DW0qa79e_ZTa",
        "outputId": "4417e9c7-27ba-472f-f421-763658c50d9a"
      },
      "outputs": [
        {
          "name": "stdout",
          "output_type": "stream",
          "text": [
            "1      1769752\n",
            "2       743009\n",
            "3       385039\n",
            "4       225179\n",
            "5       144212\n",
            "        ...   \n",
            "123          1\n",
            "118          1\n",
            "114          1\n",
            "110          1\n",
            "240          1\n",
            "Name: 거래건수, Length: 149, dtype: int64\n"
          ]
        },
        {
          "data": {
            "text/plain": [
              "array([1769752,  743009,  385039,  225179,  144212,   97109,   68111,\n",
              "         49193,   36570,   27739,   21615,   16942,   13289,   10916,\n",
              "          9023,    7320,    5945,    5056,    4336,    3651,    3129,\n",
              "          2683,    2308,    1997,    1730,    1567,    1315,    1156,\n",
              "          1035,     874,     853,     773,     661,     597,     485,\n",
              "           447,     404,     365,     341,     300,     257,     248,\n",
              "           244,     194,     188,     180,     170,     138,     123,\n",
              "           107,     105,      92,      87,      73,      70,      66,\n",
              "            64,      59,      56,      40,      38,      35,      34,\n",
              "            33,      32,      29,      27,      25,      23,      22,\n",
              "            19,      15,      14,      12,      11,      10,       9,\n",
              "             8,       7,       6,       5,       4,       3,       2,\n",
              "             1], dtype=int64)"
            ]
          },
          "execution_count": 57,
          "metadata": {},
          "output_type": "execute_result"
        },
        {
          "data": {
            "image/png": "[encoded data removed]",
            "text/plain": [
              "<Figure size 432x288 with 1 Axes>"
            ]
          },
          "metadata": {
            "needs_background": "light"
          },
          "output_type": "display_data"
        }
      ],
      "source": [
        "print(df.거래건수.value_counts())\n",
        "plt.plot(df.거래건수.value_counts())\n",
        "\n",
        "df.거래건수.value_counts().unique()"
      ]
    },
    {
      "cell_type": "markdown",
      "metadata": {
        "id": "FW63TfNt_ZTb"
      },
      "source": [
        "### 2) 정류장명과 ARS_ID의 1:1 대응여부 확인"
      ]
    },
    {
      "cell_type": "code",
      "execution_count": null,
      "metadata": {
        "id": "CImcZ_ds_ZTb",
        "outputId": "4574fbef-5585-4c45-c2de-d94e997793b7"
      },
      "outputs": [
        {
          "name": "stdout",
          "output_type": "stream",
          "text": [
            "1488\n",
            "2770\n"
          ]
        },
        {
          "data": {
            "text/plain": [
              "False"
            ]
          },
          "execution_count": 58,
          "metadata": {},
          "output_type": "execute_result"
        }
      ],
      "source": [
        "print(len(df.정류장명.unique()), len(df.ARS_ID.unique()), sep='\\n')\n",
        "len(df.정류장명.unique()) == len(df.ARS_ID.unique())"
      ]
    },
    {
      "cell_type": "code",
      "execution_count": null,
      "metadata": {
        "id": "dkS286xr_ZTc",
        "outputId": "712a37fd-9c54-48d0-f6b3-09b5db67fed2"
      },
      "outputs": [
        {
          "name": "stdout",
          "output_type": "stream",
          "text": [
            "[2 1 4 3]\n",
            "\n",
            "\n",
            "정류장명\n",
            "31사단          2\n",
            "4.19기념관       2\n",
            "4수원지          2\n",
            "4수원지위         2\n",
            "5.18기념공원      2\n",
            "             ..\n",
            "흑석사거리(동)      2\n",
            "흑석사거리(서)      2\n",
            "희망가아파트        2\n",
            "힐스테이트 각화      2\n",
            "힐스테이트연제아파트    2\n",
            "Name: ARS_ID, Length: 1487, dtype: int64\n",
            "\n",
            "\n",
            "2    1268\n",
            "1     213\n",
            "3       4\n",
            "4       2\n",
            "Name: ARS_ID, dtype: int64\n",
            "\n",
            "\n"
          ]
        }
      ],
      "source": [
        "nunique_df = df.groupby('정류장명')['ARS_ID'].nunique()\n",
        "\n",
        "print( nunique_df.unique(), end='\\n\\n\\n' )\n",
        "print( nunique_df, end='\\n\\n\\n' )\n",
        "print( nunique_df.value_counts(), end='\\n\\n\\n' )"
      ]
    },
    {
      "cell_type": "markdown",
      "metadata": {
        "id": "AEarqjF8_ZTc"
      },
      "source": [
        "<br>\n",
        "대부분의 정류장은 정류장명마다 2개의 ARS_ID를 가지고 있다<br>\n",
        "-> 하나의 정류장마다 가는 방향, 오는 방향이 있기 때문에 총 2개의 ARS_ID를 가지고 있는 것<br>\n",
        "3개 이상인 정류장도 있길래 확인해보았다.<br>\n",
        "<br>"
      ]
    },
    {
      "cell_type": "code",
      "execution_count": null,
      "metadata": {
        "id": "UMf4BvBd_ZTc",
        "outputId": "abbaec93-6459-4bf0-9a5c-923b4eea508a"
      },
      "outputs": [
        {
          "data": {
            "text/plain": [
              "정류장명\n",
              "동산마을        4\n",
              "명도삼거리       3\n",
              "문화전당역       3\n",
              "살레시오고입구     4\n",
              "평촌          3\n",
              "효령노인복지타운    3\n",
              "Name: ARS_ID, dtype: int64"
            ]
          },
          "execution_count": 60,
          "metadata": {},
          "output_type": "execute_result"
        }
      ],
      "source": [
        "nunique_df[nunique_df>=3]"
      ]
    },
    {
      "cell_type": "code",
      "execution_count": null,
      "metadata": {
        "id": "AvzIp3Lo_ZTd",
        "outputId": "2d24b418-bdcf-4086-abc2-79858cfb023d"
      },
      "outputs": [
        {
          "data": {
            "text/plain": [
              "array([5985., 6021., 6022., 5965.])"
            ]
          },
          "execution_count": 61,
          "metadata": {},
          "output_type": "execute_result"
        }
      ],
      "source": [
        "df[df.정류장명=='동산마을'].ARS_ID.unique()"
      ]
    },
    {
      "cell_type": "markdown",
      "metadata": {
        "id": "WHgAoojO_ZTd"
      },
      "source": [
        "# ![%EC%A0%9C%EB%AA%A9%20%EC%97%86%EC%9D%8C.jpg](attachment:%EC%A0%9C%EB%AA%A9%20%EC%97%86%EC%9D%8C.jpg)"
      ]
    },
    {
      "cell_type": "markdown",
      "metadata": {
        "id": "xDFdonpv_ZTd"
      },
      "source": [
        "<br>\n",
        "* 동일 이름의 정류장이 있었던 것으로 확인<br>\n",
        "* 따라서 정류장의 고유값으로는 정류장명이 아닌 ARS_ID를 사용하는 것이 바람직 함.<br>\n",
        "<br>"
      ]
    },
    {
      "cell_type": "markdown",
      "metadata": {
        "id": "VjUtpZvT_ZTe"
      },
      "source": [
        "### 3) 결측치 확인"
      ]
    },
    {
      "cell_type": "code",
      "execution_count": null,
      "metadata": {
        "id": "mwmeG1KK_ZTe",
        "outputId": "3f8eedd1-62dc-4182-dc0a-0a14f22f0c70"
      },
      "outputs": [
        {
          "data": {
            "text/plain": [
              "<AxesSubplot:>"
            ]
          },
          "execution_count": 358,
          "metadata": {},
          "output_type": "execute_result"
        },
        {
          "data": {
            "image/png": "[encoded data removed]",
            "text/plain": [
              "<Figure size 1800x720 with 2 Axes>"
            ]
          },
          "metadata": {
            "needs_background": "light"
          },
          "output_type": "display_data"
        }
      ],
      "source": [
        "msno.matrix(df)"
      ]
    },
    {
      "cell_type": "code",
      "execution_count": null,
      "metadata": {
        "id": "FGTXQqju_ZTe",
        "outputId": "f3f62286-ad02-45b7-8a7f-c4e9512a8fa9"
      },
      "outputs": [
        {
          "data": {
            "text/plain": [
              "index         0\n",
              "일자            0\n",
              "노선명           0\n",
              "정류장명      24032\n",
              "ARS_ID    24197\n",
              "시간            0\n",
              "승하차           0\n",
              "거래건수          0\n",
              "dtype: int64"
            ]
          },
          "execution_count": 62,
          "metadata": {},
          "output_type": "execute_result"
        }
      ],
      "source": [
        "df.isnull().sum()"
      ]
    },
    {
      "cell_type": "code",
      "execution_count": null,
      "metadata": {
        "id": "PGRw7-gl_ZTe",
        "outputId": "b04efd59-dc6c-4a4b-94cb-bee0f286b8d8"
      },
      "outputs": [
        {
          "data": {
            "text/html": [
              "<div>\n",
              "<style scoped>\n",
              "    .dataframe tbody tr th:only-of-type {\n",
              "        vertical-align: middle;\n",
              "    }\n",
              "\n",
              "    .dataframe tbody tr th {\n",
              "        vertical-align: top;\n",
              "    }\n",
              "\n",
              "    .dataframe thead th {\n",
              "        text-align: right;\n",
              "    }\n",
              "</style>\n",
              "<table border=\"1\" class=\"dataframe\">\n",
              "  <thead>\n",
              "    <tr style=\"text-align: right;\">\n",
              "      <th></th>\n",
              "      <th>index</th>\n",
              "      <th>일자</th>\n",
              "      <th>노선명</th>\n",
              "      <th>정류장명</th>\n",
              "      <th>ARS_ID</th>\n",
              "      <th>시간</th>\n",
              "      <th>승하차</th>\n",
              "      <th>거래건수</th>\n",
              "    </tr>\n",
              "  </thead>\n",
              "  <tbody>\n",
              "    <tr>\n",
              "      <th>552</th>\n",
              "      <td>552</td>\n",
              "      <td>20220301</td>\n",
              "      <td>1187</td>\n",
              "      <td>NaN</td>\n",
              "      <td>NaN</td>\n",
              "      <td>9</td>\n",
              "      <td>승차</td>\n",
              "      <td>6</td>\n",
              "    </tr>\n",
              "    <tr>\n",
              "      <th>553</th>\n",
              "      <td>553</td>\n",
              "      <td>20220301</td>\n",
              "      <td>1187</td>\n",
              "      <td>NaN</td>\n",
              "      <td>NaN</td>\n",
              "      <td>10</td>\n",
              "      <td>승차</td>\n",
              "      <td>1</td>\n",
              "    </tr>\n",
              "    <tr>\n",
              "      <th>554</th>\n",
              "      <td>554</td>\n",
              "      <td>20220301</td>\n",
              "      <td>1187</td>\n",
              "      <td>NaN</td>\n",
              "      <td>NaN</td>\n",
              "      <td>11</td>\n",
              "      <td>승차</td>\n",
              "      <td>7</td>\n",
              "    </tr>\n",
              "    <tr>\n",
              "      <th>555</th>\n",
              "      <td>555</td>\n",
              "      <td>20220301</td>\n",
              "      <td>1187</td>\n",
              "      <td>NaN</td>\n",
              "      <td>NaN</td>\n",
              "      <td>12</td>\n",
              "      <td>승차</td>\n",
              "      <td>20</td>\n",
              "    </tr>\n",
              "    <tr>\n",
              "      <th>556</th>\n",
              "      <td>556</td>\n",
              "      <td>20220301</td>\n",
              "      <td>1187</td>\n",
              "      <td>NaN</td>\n",
              "      <td>NaN</td>\n",
              "      <td>13</td>\n",
              "      <td>승차</td>\n",
              "      <td>5</td>\n",
              "    </tr>\n",
              "    <tr>\n",
              "      <th>...</th>\n",
              "      <td>...</td>\n",
              "      <td>...</td>\n",
              "      <td>...</td>\n",
              "      <td>...</td>\n",
              "      <td>...</td>\n",
              "      <td>...</td>\n",
              "      <td>...</td>\n",
              "      <td>...</td>\n",
              "    </tr>\n",
              "    <tr>\n",
              "      <th>3670121</th>\n",
              "      <td>7206</td>\n",
              "      <td>20220331</td>\n",
              "      <td>첨단95</td>\n",
              "      <td>NaN</td>\n",
              "      <td>NaN</td>\n",
              "      <td>21</td>\n",
              "      <td>승차</td>\n",
              "      <td>1</td>\n",
              "    </tr>\n",
              "    <tr>\n",
              "      <th>3670122</th>\n",
              "      <td>7207</td>\n",
              "      <td>20220331</td>\n",
              "      <td>첨단95</td>\n",
              "      <td>NaN</td>\n",
              "      <td>NaN</td>\n",
              "      <td>22</td>\n",
              "      <td>승차</td>\n",
              "      <td>2</td>\n",
              "    </tr>\n",
              "    <tr>\n",
              "      <th>3670375</th>\n",
              "      <td>7460</td>\n",
              "      <td>20220331</td>\n",
              "      <td>충효187</td>\n",
              "      <td>NaN</td>\n",
              "      <td>NaN</td>\n",
              "      <td>8</td>\n",
              "      <td>승차</td>\n",
              "      <td>1</td>\n",
              "    </tr>\n",
              "    <tr>\n",
              "      <th>3670376</th>\n",
              "      <td>7461</td>\n",
              "      <td>20220331</td>\n",
              "      <td>충효187</td>\n",
              "      <td>NaN</td>\n",
              "      <td>NaN</td>\n",
              "      <td>14</td>\n",
              "      <td>승차</td>\n",
              "      <td>2</td>\n",
              "    </tr>\n",
              "    <tr>\n",
              "      <th>3670377</th>\n",
              "      <td>7462</td>\n",
              "      <td>20220331</td>\n",
              "      <td>충효187</td>\n",
              "      <td>NaN</td>\n",
              "      <td>NaN</td>\n",
              "      <td>17</td>\n",
              "      <td>승차</td>\n",
              "      <td>1</td>\n",
              "    </tr>\n",
              "  </tbody>\n",
              "</table>\n",
              "<p>24197 rows × 8 columns</p>\n",
              "</div>"
            ],
            "text/plain": [
              "         index        일자    노선명 정류장명  ARS_ID  시간 승하차  거래건수\n",
              "552        552  20220301   1187  NaN     NaN   9  승차     6\n",
              "553        553  20220301   1187  NaN     NaN  10  승차     1\n",
              "554        554  20220301   1187  NaN     NaN  11  승차     7\n",
              "555        555  20220301   1187  NaN     NaN  12  승차    20\n",
              "556        556  20220301   1187  NaN     NaN  13  승차     5\n",
              "...        ...       ...    ...  ...     ...  ..  ..   ...\n",
              "3670121   7206  20220331   첨단95  NaN     NaN  21  승차     1\n",
              "3670122   7207  20220331   첨단95  NaN     NaN  22  승차     2\n",
              "3670375   7460  20220331  충효187  NaN     NaN   8  승차     1\n",
              "3670376   7461  20220331  충효187  NaN     NaN  14  승차     2\n",
              "3670377   7462  20220331  충효187  NaN     NaN  17  승차     1\n",
              "\n",
              "[24197 rows x 8 columns]"
            ]
          },
          "execution_count": 308,
          "metadata": {},
          "output_type": "execute_result"
        }
      ],
      "source": [
        "df[df.ARS_ID.isnull()]"
      ]
    },
    {
      "cell_type": "code",
      "execution_count": null,
      "metadata": {
        "id": "65oHTaLg_ZTf",
        "outputId": "71a1bd29-a4e3-4558-fc99-804670b853dc"
      },
      "outputs": [
        {
          "data": {
            "text/html": [
              "<div>\n",
              "<style scoped>\n",
              "    .dataframe tbody tr th:only-of-type {\n",
              "        vertical-align: middle;\n",
              "    }\n",
              "\n",
              "    .dataframe tbody tr th {\n",
              "        vertical-align: top;\n",
              "    }\n",
              "\n",
              "    .dataframe thead th {\n",
              "        text-align: right;\n",
              "    }\n",
              "</style>\n",
              "<table border=\"1\" class=\"dataframe\">\n",
              "  <thead>\n",
              "    <tr style=\"text-align: right;\">\n",
              "      <th></th>\n",
              "      <th>index</th>\n",
              "      <th>일자</th>\n",
              "      <th>노선명</th>\n",
              "      <th>정류장명</th>\n",
              "      <th>ARS_ID</th>\n",
              "      <th>시간</th>\n",
              "      <th>승하차</th>\n",
              "      <th>거래건수</th>\n",
              "    </tr>\n",
              "  </thead>\n",
              "  <tbody>\n",
              "    <tr>\n",
              "      <th>552</th>\n",
              "      <td>552</td>\n",
              "      <td>20220301</td>\n",
              "      <td>1187</td>\n",
              "      <td>NaN</td>\n",
              "      <td>NaN</td>\n",
              "      <td>9</td>\n",
              "      <td>승차</td>\n",
              "      <td>6</td>\n",
              "    </tr>\n",
              "    <tr>\n",
              "      <th>553</th>\n",
              "      <td>553</td>\n",
              "      <td>20220301</td>\n",
              "      <td>1187</td>\n",
              "      <td>NaN</td>\n",
              "      <td>NaN</td>\n",
              "      <td>10</td>\n",
              "      <td>승차</td>\n",
              "      <td>1</td>\n",
              "    </tr>\n",
              "    <tr>\n",
              "      <th>554</th>\n",
              "      <td>554</td>\n",
              "      <td>20220301</td>\n",
              "      <td>1187</td>\n",
              "      <td>NaN</td>\n",
              "      <td>NaN</td>\n",
              "      <td>11</td>\n",
              "      <td>승차</td>\n",
              "      <td>7</td>\n",
              "    </tr>\n",
              "    <tr>\n",
              "      <th>555</th>\n",
              "      <td>555</td>\n",
              "      <td>20220301</td>\n",
              "      <td>1187</td>\n",
              "      <td>NaN</td>\n",
              "      <td>NaN</td>\n",
              "      <td>12</td>\n",
              "      <td>승차</td>\n",
              "      <td>20</td>\n",
              "    </tr>\n",
              "    <tr>\n",
              "      <th>556</th>\n",
              "      <td>556</td>\n",
              "      <td>20220301</td>\n",
              "      <td>1187</td>\n",
              "      <td>NaN</td>\n",
              "      <td>NaN</td>\n",
              "      <td>13</td>\n",
              "      <td>승차</td>\n",
              "      <td>5</td>\n",
              "    </tr>\n",
              "    <tr>\n",
              "      <th>...</th>\n",
              "      <td>...</td>\n",
              "      <td>...</td>\n",
              "      <td>...</td>\n",
              "      <td>...</td>\n",
              "      <td>...</td>\n",
              "      <td>...</td>\n",
              "      <td>...</td>\n",
              "      <td>...</td>\n",
              "    </tr>\n",
              "    <tr>\n",
              "      <th>3670121</th>\n",
              "      <td>7206</td>\n",
              "      <td>20220331</td>\n",
              "      <td>첨단95</td>\n",
              "      <td>NaN</td>\n",
              "      <td>NaN</td>\n",
              "      <td>21</td>\n",
              "      <td>승차</td>\n",
              "      <td>1</td>\n",
              "    </tr>\n",
              "    <tr>\n",
              "      <th>3670122</th>\n",
              "      <td>7207</td>\n",
              "      <td>20220331</td>\n",
              "      <td>첨단95</td>\n",
              "      <td>NaN</td>\n",
              "      <td>NaN</td>\n",
              "      <td>22</td>\n",
              "      <td>승차</td>\n",
              "      <td>2</td>\n",
              "    </tr>\n",
              "    <tr>\n",
              "      <th>3670375</th>\n",
              "      <td>7460</td>\n",
              "      <td>20220331</td>\n",
              "      <td>충효187</td>\n",
              "      <td>NaN</td>\n",
              "      <td>NaN</td>\n",
              "      <td>8</td>\n",
              "      <td>승차</td>\n",
              "      <td>1</td>\n",
              "    </tr>\n",
              "    <tr>\n",
              "      <th>3670376</th>\n",
              "      <td>7461</td>\n",
              "      <td>20220331</td>\n",
              "      <td>충효187</td>\n",
              "      <td>NaN</td>\n",
              "      <td>NaN</td>\n",
              "      <td>14</td>\n",
              "      <td>승차</td>\n",
              "      <td>2</td>\n",
              "    </tr>\n",
              "    <tr>\n",
              "      <th>3670377</th>\n",
              "      <td>7462</td>\n",
              "      <td>20220331</td>\n",
              "      <td>충효187</td>\n",
              "      <td>NaN</td>\n",
              "      <td>NaN</td>\n",
              "      <td>17</td>\n",
              "      <td>승차</td>\n",
              "      <td>1</td>\n",
              "    </tr>\n",
              "  </tbody>\n",
              "</table>\n",
              "<p>24032 rows × 8 columns</p>\n",
              "</div>"
            ],
            "text/plain": [
              "         index        일자    노선명 정류장명  ARS_ID  시간 승하차  거래건수\n",
              "552        552  20220301   1187  NaN     NaN   9  승차     6\n",
              "553        553  20220301   1187  NaN     NaN  10  승차     1\n",
              "554        554  20220301   1187  NaN     NaN  11  승차     7\n",
              "555        555  20220301   1187  NaN     NaN  12  승차    20\n",
              "556        556  20220301   1187  NaN     NaN  13  승차     5\n",
              "...        ...       ...    ...  ...     ...  ..  ..   ...\n",
              "3670121   7206  20220331   첨단95  NaN     NaN  21  승차     1\n",
              "3670122   7207  20220331   첨단95  NaN     NaN  22  승차     2\n",
              "3670375   7460  20220331  충효187  NaN     NaN   8  승차     1\n",
              "3670376   7461  20220331  충효187  NaN     NaN  14  승차     2\n",
              "3670377   7462  20220331  충효187  NaN     NaN  17  승차     1\n",
              "\n",
              "[24032 rows x 8 columns]"
            ]
          },
          "execution_count": 362,
          "metadata": {},
          "output_type": "execute_result"
        }
      ],
      "source": [
        "df[df.정류장명.isnull()]"
      ]
    },
    {
      "cell_type": "markdown",
      "metadata": {
        "id": "Rf_PgATJ_ZTf"
      },
      "source": [
        "<br>\n",
        "정류장명과 ARS_ID간의 null값 개수가 다르고, 정류장명과 정류장 ID가 Null값인 관측치가 상당수 존재.<br>\n",
        "전체 데이터 셋에 비해서 매우 적은 양(약 0.5%), 또한 정류장명과 ARS_ID는 회귀식에 데이터가 아님<br>\n",
        "따라서 정류장명과 ARS_ID간의 대응관계만 맞춰주고, 나머지 Null값은 모두 Drop<br>\n",
        "<br>"
      ]
    },
    {
      "cell_type": "code",
      "execution_count": null,
      "metadata": {
        "id": "FOl9Ckyw_ZTf",
        "outputId": "6fb855aa-63fe-4bcc-9cd3-192262641a92"
      },
      "outputs": [
        {
          "data": {
            "text/html": [
              "<div>\n",
              "<style scoped>\n",
              "    .dataframe tbody tr th:only-of-type {\n",
              "        vertical-align: middle;\n",
              "    }\n",
              "\n",
              "    .dataframe tbody tr th {\n",
              "        vertical-align: top;\n",
              "    }\n",
              "\n",
              "    .dataframe thead th {\n",
              "        text-align: right;\n",
              "    }\n",
              "</style>\n",
              "<table border=\"1\" class=\"dataframe\">\n",
              "  <thead>\n",
              "    <tr style=\"text-align: right;\">\n",
              "      <th></th>\n",
              "      <th>index</th>\n",
              "      <th>일자</th>\n",
              "      <th>노선명</th>\n",
              "      <th>정류장명</th>\n",
              "      <th>ARS_ID</th>\n",
              "      <th>시간</th>\n",
              "      <th>승하차</th>\n",
              "      <th>거래건수</th>\n",
              "    </tr>\n",
              "  </thead>\n",
              "  <tbody>\n",
              "    <tr>\n",
              "      <th>14662</th>\n",
              "      <td>14662</td>\n",
              "      <td>20220301</td>\n",
              "      <td>마을788</td>\n",
              "      <td>시화문화마을문화관</td>\n",
              "      <td>NaN</td>\n",
              "      <td>8</td>\n",
              "      <td>승차</td>\n",
              "      <td>1</td>\n",
              "    </tr>\n",
              "    <tr>\n",
              "      <th>14663</th>\n",
              "      <td>14663</td>\n",
              "      <td>20220301</td>\n",
              "      <td>마을788</td>\n",
              "      <td>시화문화마을문화관</td>\n",
              "      <td>NaN</td>\n",
              "      <td>12</td>\n",
              "      <td>승차</td>\n",
              "      <td>1</td>\n",
              "    </tr>\n",
              "    <tr>\n",
              "      <th>112519</th>\n",
              "      <td>47520</td>\n",
              "      <td>20220302</td>\n",
              "      <td>마을788</td>\n",
              "      <td>시화문화마을문화관</td>\n",
              "      <td>NaN</td>\n",
              "      <td>7</td>\n",
              "      <td>승차</td>\n",
              "      <td>4</td>\n",
              "    </tr>\n",
              "    <tr>\n",
              "      <th>112520</th>\n",
              "      <td>47521</td>\n",
              "      <td>20220302</td>\n",
              "      <td>마을788</td>\n",
              "      <td>시화문화마을문화관</td>\n",
              "      <td>NaN</td>\n",
              "      <td>8</td>\n",
              "      <td>승차</td>\n",
              "      <td>1</td>\n",
              "    </tr>\n",
              "    <tr>\n",
              "      <th>112521</th>\n",
              "      <td>47522</td>\n",
              "      <td>20220302</td>\n",
              "      <td>마을788</td>\n",
              "      <td>시화문화마을문화관</td>\n",
              "      <td>NaN</td>\n",
              "      <td>10</td>\n",
              "      <td>승차</td>\n",
              "      <td>1</td>\n",
              "    </tr>\n",
              "    <tr>\n",
              "      <th>...</th>\n",
              "      <td>...</td>\n",
              "      <td>...</td>\n",
              "      <td>...</td>\n",
              "      <td>...</td>\n",
              "      <td>...</td>\n",
              "      <td>...</td>\n",
              "      <td>...</td>\n",
              "      <td>...</td>\n",
              "    </tr>\n",
              "    <tr>\n",
              "      <th>3563174</th>\n",
              "      <td>30257</td>\n",
              "      <td>20220331</td>\n",
              "      <td>마을788</td>\n",
              "      <td>시화문화마을문화관</td>\n",
              "      <td>NaN</td>\n",
              "      <td>12</td>\n",
              "      <td>승차</td>\n",
              "      <td>1</td>\n",
              "    </tr>\n",
              "    <tr>\n",
              "      <th>3563175</th>\n",
              "      <td>30258</td>\n",
              "      <td>20220331</td>\n",
              "      <td>마을788</td>\n",
              "      <td>시화문화마을문화관</td>\n",
              "      <td>NaN</td>\n",
              "      <td>13</td>\n",
              "      <td>승차</td>\n",
              "      <td>1</td>\n",
              "    </tr>\n",
              "    <tr>\n",
              "      <th>3563176</th>\n",
              "      <td>30259</td>\n",
              "      <td>20220331</td>\n",
              "      <td>마을788</td>\n",
              "      <td>시화문화마을문화관</td>\n",
              "      <td>NaN</td>\n",
              "      <td>14</td>\n",
              "      <td>승차</td>\n",
              "      <td>1</td>\n",
              "    </tr>\n",
              "    <tr>\n",
              "      <th>3563177</th>\n",
              "      <td>30260</td>\n",
              "      <td>20220331</td>\n",
              "      <td>마을788</td>\n",
              "      <td>시화문화마을문화관</td>\n",
              "      <td>NaN</td>\n",
              "      <td>15</td>\n",
              "      <td>승차</td>\n",
              "      <td>1</td>\n",
              "    </tr>\n",
              "    <tr>\n",
              "      <th>3563178</th>\n",
              "      <td>30261</td>\n",
              "      <td>20220331</td>\n",
              "      <td>마을788</td>\n",
              "      <td>시화문화마을문화관</td>\n",
              "      <td>NaN</td>\n",
              "      <td>18</td>\n",
              "      <td>승차</td>\n",
              "      <td>1</td>\n",
              "    </tr>\n",
              "  </tbody>\n",
              "</table>\n",
              "<p>165 rows × 8 columns</p>\n",
              "</div>"
            ],
            "text/plain": [
              "         index        일자    노선명       정류장명  ARS_ID  시간 승하차  거래건수\n",
              "14662    14662  20220301  마을788  시화문화마을문화관     NaN   8  승차     1\n",
              "14663    14663  20220301  마을788  시화문화마을문화관     NaN  12  승차     1\n",
              "112519   47520  20220302  마을788  시화문화마을문화관     NaN   7  승차     4\n",
              "112520   47521  20220302  마을788  시화문화마을문화관     NaN   8  승차     1\n",
              "112521   47522  20220302  마을788  시화문화마을문화관     NaN  10  승차     1\n",
              "...        ...       ...    ...        ...     ...  ..  ..   ...\n",
              "3563174  30257  20220331  마을788  시화문화마을문화관     NaN  12  승차     1\n",
              "3563175  30258  20220331  마을788  시화문화마을문화관     NaN  13  승차     1\n",
              "3563176  30259  20220331  마을788  시화문화마을문화관     NaN  14  승차     1\n",
              "3563177  30260  20220331  마을788  시화문화마을문화관     NaN  15  승차     1\n",
              "3563178  30261  20220331  마을788  시화문화마을문화관     NaN  18  승차     1\n",
              "\n",
              "[165 rows x 8 columns]"
            ]
          },
          "execution_count": 364,
          "metadata": {},
          "output_type": "execute_result"
        }
      ],
      "source": [
        "df[df.정류장명.notnull() & df.ARS_ID.isnull()]"
      ]
    },
    {
      "cell_type": "code",
      "execution_count": null,
      "metadata": {
        "id": "UK8qMLBw_ZTg",
        "outputId": "2906acc7-f1e0-41ea-fc12-94d90a790f03"
      },
      "outputs": [
        {
          "data": {
            "text/html": [
              "<div>\n",
              "<style scoped>\n",
              "    .dataframe tbody tr th:only-of-type {\n",
              "        vertical-align: middle;\n",
              "    }\n",
              "\n",
              "    .dataframe tbody tr th {\n",
              "        vertical-align: top;\n",
              "    }\n",
              "\n",
              "    .dataframe thead th {\n",
              "        text-align: right;\n",
              "    }\n",
              "</style>\n",
              "<table border=\"1\" class=\"dataframe\">\n",
              "  <thead>\n",
              "    <tr style=\"text-align: right;\">\n",
              "      <th></th>\n",
              "      <th>index</th>\n",
              "      <th>일자</th>\n",
              "      <th>노선명</th>\n",
              "      <th>정류장명</th>\n",
              "      <th>ARS_ID</th>\n",
              "      <th>시간</th>\n",
              "      <th>승하차</th>\n",
              "      <th>거래건수</th>\n",
              "    </tr>\n",
              "  </thead>\n",
              "  <tbody>\n",
              "  </tbody>\n",
              "</table>\n",
              "</div>"
            ],
            "text/plain": [
              "Empty DataFrame\n",
              "Columns: [index, 일자, 노선명, 정류장명, ARS_ID, 시간, 승하차, 거래건수]\n",
              "Index: []"
            ]
          },
          "execution_count": 363,
          "metadata": {},
          "output_type": "execute_result"
        }
      ],
      "source": [
        "df[df.정류장명.isnull() & df.ARS_ID.notnull()]"
      ]
    },
    {
      "cell_type": "markdown",
      "metadata": {
        "id": "Tu2cwqzW_ZTg"
      },
      "source": [
        "<br>"
      ]
    },
    {
      "cell_type": "code",
      "execution_count": null,
      "metadata": {
        "id": "QkpdxMZC_ZTg",
        "outputId": "57d34fee-3707-435f-c27b-c913b08638f2"
      },
      "outputs": [
        {
          "data": {
            "text/plain": [
              "array(['시화문화마을문화관'], dtype=object)"
            ]
          },
          "execution_count": 366,
          "metadata": {},
          "output_type": "execute_result"
        }
      ],
      "source": [
        "df[df.정류장명.notnull() & df.ARS_ID.isnull()].정류장명.unique()"
      ]
    },
    {
      "cell_type": "markdown",
      "metadata": {
        "id": "vOp5zEpX_ZTg"
      },
      "source": [
        "<br>\n",
        "정류장명은 존재하지만 ARS_ID가 존재하지 않는 경우 존재<br>\n",
        "확인 결과, 각화중 방향 사회문화마을문화관 정류장은 따로 ARS_ID가 존재하지 않았음<br>\n",
        "<br>"
      ]
    },
    {
      "cell_type": "markdown",
      "metadata": {
        "id": "7kjiPZzS_ZTh"
      },
      "source": [
        "![%EC%A0%9C%EB%AA%A9%20%EC%97%86%EC%9D%8C.png](attachment:%EC%A0%9C%EB%AA%A9%20%EC%97%86%EC%9D%8C.png)"
      ]
    },
    {
      "cell_type": "markdown",
      "metadata": {
        "id": "bmecJmQx_ZTh"
      },
      "source": [
        "# **3. 데이터 전처리**\n",
        "---"
      ]
    },
    {
      "cell_type": "markdown",
      "metadata": {
        "id": "u55wOpCa_ZTh"
      },
      "source": [
        "### 0) 광주광역시 노선 정보 데이터 불러오기"
      ]
    },
    {
      "cell_type": "code",
      "execution_count": null,
      "metadata": {
        "id": "AKydLhhu_ZTh"
      },
      "outputs": [],
      "source": [
        "# url = 'D:/python_projects/BusStopCongestionProject/Data/Original_data/GwangjuBusInfo/Excel/광주광역시_시내버스노선정보_11_30_2020.xls'\n",
        "# BusInfo = pd.read_excel(url, sheet_name=None)"
      ]
    },
    {
      "cell_type": "code",
      "execution_count": null,
      "metadata": {
        "id": "TLd0Adue_ZTh"
      },
      "outputs": [],
      "source": [
        "# bus_dict = {}\n",
        "# for i in enumerate(BusInfo):\n",
        "#     key = i[1]\n",
        "#     item = BusInfo[ key ].filter(regex='출발')\n",
        "#     if (len(item.columns)>1):\n",
        "#         item = list( set(item.iloc[:,0]) | set(item.iloc[:,1]) )\n",
        "    \n",
        "#     bus_dict[key] = item"
      ]
    },
    {
      "cell_type": "code",
      "execution_count": null,
      "metadata": {
        "collapsed": true,
        "id": "McECOVnl_ZTh",
        "outputId": "4d06b688-4f67-4fe1-ea96-65e66637a028"
      },
      "outputs": [
        {
          "name": "stdout",
          "output_type": "stream",
          "text": [
            "[1187]\n",
            "총 정류장 수: 56\n",
            "데이터셋의 정류장 수: 54\n",
            "\n",
            "\n",
            "[1187-1]\n",
            "총 정류장 수: 23\n",
            "데이터셋의 정류장 수: 21\n",
            "\n",
            "\n",
            "[419]\n",
            "총 정류장 수: 49\n",
            "데이터셋의 정류장 수: 48\n",
            "\n",
            "\n",
            "[518]\n",
            "총 정류장 수: 71\n",
            "데이터셋의 정류장 수: 70\n",
            "\n",
            "\n",
            "[금남57]\n",
            "총 정류장 수: 57\n",
            "데이터셋의 정류장 수: 55\n",
            "\n",
            "\n",
            "[금남58]\n",
            "총 정류장 수: 30\n",
            "데이터셋의 정류장 수: 28\n",
            "\n",
            "\n",
            "[금남59]\n",
            "총 정류장 수: 57\n",
            "데이터셋의 정류장 수: 55\n",
            "\n",
            "\n",
            "[금호36]\n",
            "총 정류장 수: 65\n",
            "데이터셋의 정류장 수: 63\n",
            "\n",
            "\n",
            "[금호46]\n",
            "총 정류장 수: 54\n",
            "데이터셋의 정류장 수: 51\n",
            "\n",
            "\n",
            "[대촌270]\n",
            "총 정류장 수: 46\n",
            "데이터셋의 정류장 수: 43\n",
            "\n",
            "\n",
            "[대촌69]\n",
            "총 정류장 수: 41\n",
            "데이터셋의 정류장 수: 39\n",
            "\n",
            "\n",
            "[대촌70]\n",
            "총 정류장 수: 49\n",
            "데이터셋의 정류장 수: 47\n",
            "\n",
            "\n",
            "[대촌71]\n",
            "총 정류장 수: 41\n",
            "데이터셋의 정류장 수: 39\n",
            "\n",
            "\n",
            "[매월06]\n",
            "총 정류장 수: 34\n",
            "데이터셋의 정류장 수: 32\n",
            "\n",
            "\n",
            "[매월16]\n",
            "총 정류장 수: 70\n",
            "데이터셋의 정류장 수: 68\n",
            "\n",
            "\n",
            "[매월26]\n",
            "총 정류장 수: 52\n",
            "데이터셋의 정류장 수: 50\n",
            "\n",
            "\n",
            "[문흥18]\n",
            "총 정류장 수: 65\n",
            "데이터셋의 정류장 수: 64\n",
            "\n",
            "\n",
            "[문흥39]\n",
            "총 정류장 수: 60\n",
            "데이터셋의 정류장 수: 60\n",
            "\n",
            "\n",
            "[문흥53]\n",
            "총 정류장 수: 25\n",
            "데이터셋의 정류장 수: 23\n",
            "\n",
            "\n",
            "[문흥80]\n",
            "총 정류장 수: 39\n",
            "데이터셋의 정류장 수: 36\n",
            "\n",
            "\n",
            "[봉선27]\n",
            "총 정류장 수: 71\n",
            "데이터셋의 정류장 수: 69\n",
            "\n",
            "\n",
            "[봉선37]\n",
            "총 정류장 수: 81\n",
            "데이터셋의 정류장 수: 79\n",
            "\n",
            "\n",
            "[봉선76]\n",
            "총 정류장 수: 50\n",
            "데이터셋의 정류장 수: 49\n",
            "\n",
            "\n",
            "[상무63]\n",
            "총 정류장 수: 32\n",
            "데이터셋의 정류장 수: 30\n",
            "\n",
            "\n",
            "[상무64]\n",
            "총 정류장 수: 43\n",
            "데이터셋의 정류장 수: 40\n",
            "\n",
            "\n",
            "[송암31]\n",
            "총 정류장 수: 33\n",
            "데이터셋의 정류장 수: 32\n",
            "\n",
            "\n",
            "[송암47]\n",
            "총 정류장 수: 65\n",
            "데이터셋의 정류장 수: 65\n",
            "\n",
            "\n",
            "[송암68]\n",
            "총 정류장 수: 50\n",
            "데이터셋의 정류장 수: 49\n",
            "\n",
            "\n",
            "[송암72]\n",
            "총 정류장 수: 71\n",
            "데이터셋의 정류장 수: 69\n",
            "\n",
            "\n",
            "[송암73]\n",
            "총 정류장 수: 64\n",
            "데이터셋의 정류장 수: 62\n",
            "\n",
            "\n",
            "[송정19]\n",
            "총 정류장 수: 67\n",
            "데이터셋의 정류장 수: 67\n",
            "\n",
            "\n",
            "[송정197]\n",
            "총 정류장 수: 48\n",
            "데이터셋의 정류장 수: 46\n",
            "\n",
            "\n",
            "[송정29]\n",
            "총 정류장 수: 60\n",
            "데이터셋의 정류장 수: 58\n",
            "\n",
            "\n",
            "[송정33]\n",
            "총 정류장 수: 58\n",
            "데이터셋의 정류장 수: 57\n",
            "\n",
            "\n",
            "[송정96]\n",
            "총 정류장 수: 46\n",
            "데이터셋의 정류장 수: 44\n",
            "\n",
            "\n",
            "[송정97]\n",
            "총 정류장 수: 57\n",
            "데이터셋의 정류장 수: 53\n",
            "\n",
            "\n",
            "[송정98]\n",
            "총 정류장 수: 65\n",
            "데이터셋의 정류장 수: 63\n",
            "\n",
            "\n",
            "[수완03]\n",
            "총 정류장 수: 39\n",
            "데이터셋의 정류장 수: 37\n",
            "\n",
            "\n",
            "[수완12]\n",
            "총 정류장 수: 66\n",
            "데이터셋의 정류장 수: 65\n",
            "\n",
            "\n",
            "[수완49]\n",
            "총 정류장 수: 57\n",
            "데이터셋의 정류장 수: 56\n",
            "\n",
            "\n",
            "[양산60]\n",
            "총 정류장 수: 35\n",
            "데이터셋의 정류장 수: 33\n",
            "\n",
            "\n",
            "[용봉83]\n",
            "총 정류장 수: 37\n",
            "데이터셋의 정류장 수: 36\n",
            "\n",
            "\n",
            "[용전84]\n",
            "총 정류장 수: 48\n",
            "데이터셋의 정류장 수: 46\n",
            "\n",
            "\n",
            "[용전85]\n",
            "총 정류장 수: 36\n",
            "데이터셋의 정류장 수: 33\n",
            "\n",
            "\n",
            "[운림35]\n",
            "총 정류장 수: 50\n",
            "데이터셋의 정류장 수: 48\n",
            "\n",
            "\n",
            "[운림50]\n",
            "총 정류장 수: 58\n",
            "데이터셋의 정류장 수: 56\n",
            "\n",
            "\n",
            "[운림51]\n",
            "총 정류장 수: 65\n",
            "데이터셋의 정류장 수: 64\n",
            "\n",
            "\n",
            "[운림54]\n",
            "총 정류장 수: 42\n",
            "데이터셋의 정류장 수: 41\n",
            "\n",
            "\n",
            "[일곡10]\n",
            "총 정류장 수: 60\n",
            "데이터셋의 정류장 수: 60\n",
            "\n",
            "\n",
            "[일곡28]\n",
            "총 정류장 수: 65\n",
            "데이터셋의 정류장 수: 63\n",
            "\n",
            "\n",
            "[일곡38]\n",
            "총 정류장 수: 75\n",
            "데이터셋의 정류장 수: 74\n",
            "\n",
            "\n",
            "[임곡89]\n",
            "총 정류장 수: 75\n",
            "데이터셋의 정류장 수: 72\n",
            "\n",
            "\n",
            "[임곡90]\n",
            "총 정류장 수: 58\n",
            "데이터셋의 정류장 수: 58\n",
            "\n",
            "\n",
            "[임곡91]\n",
            "총 정류장 수: 53\n",
            "데이터셋의 정류장 수: 48\n",
            "\n",
            "\n",
            "[지원15]\n",
            "총 정류장 수: 56\n",
            "데이터셋의 정류장 수: 55\n",
            "\n",
            "\n",
            "[지원25]\n",
            "총 정류장 수: 57\n",
            "데이터셋의 정류장 수: 55\n",
            "\n",
            "\n",
            "[지원45]\n",
            "총 정류장 수: 68\n",
            "데이터셋의 정류장 수: 68\n",
            "\n",
            "\n",
            "[지원52]\n",
            "총 정류장 수: 43\n",
            "데이터셋의 정류장 수: 41\n",
            "\n",
            "\n",
            "[지원56]\n",
            "총 정류장 수: 44\n",
            "데이터셋의 정류장 수: 42\n",
            "\n",
            "\n",
            "[진곡196]\n",
            "총 정류장 수: 58\n",
            "데이터셋의 정류장 수: 56\n",
            "\n",
            "\n",
            "[진월07]\n",
            "총 정류장 수: 41\n",
            "데이터셋의 정류장 수: 38\n",
            "\n",
            "\n",
            "[진월17]\n",
            "총 정류장 수: 57\n",
            "데이터셋의 정류장 수: 56\n",
            "\n",
            "\n",
            "[진월177]\n",
            "총 정류장 수: 36\n",
            "데이터셋의 정류장 수: 34\n",
            "\n",
            "\n",
            "[진월75]\n",
            "총 정류장 수: 60\n",
            "데이터셋의 정류장 수: 59\n",
            "\n",
            "\n",
            "[진월77]\n",
            "총 정류장 수: 44\n",
            "데이터셋의 정류장 수: 41\n",
            "\n",
            "\n",
            "[진월78]\n",
            "총 정류장 수: 33\n",
            "데이터셋의 정류장 수: 30\n",
            "\n",
            "\n",
            "[진월79]\n",
            "총 정류장 수: 29\n",
            "데이터셋의 정류장 수: 27\n",
            "\n",
            "\n",
            "[첨단09]\n",
            "총 정류장 수: 43\n",
            "데이터셋의 정류장 수: 42\n",
            "\n",
            "\n",
            "[첨단192]\n",
            "총 정류장 수: 46\n",
            "데이터셋의 정류장 수: 44\n",
            "\n",
            "\n",
            "[첨단20]\n",
            "총 정류장 수: 70\n",
            "데이터셋의 정류장 수: 71\n",
            "\n",
            "\n",
            "[첨단22]\n",
            "총 정류장 수: 48\n",
            "데이터셋의 정류장 수: 46\n",
            "\n",
            "\n",
            "[첨단23]\n",
            "총 정류장 수: 49\n",
            "데이터셋의 정류장 수: 46\n",
            "\n",
            "\n",
            "[첨단30]\n",
            "총 정류장 수: 61\n",
            "데이터셋의 정류장 수: 60\n",
            "\n",
            "\n",
            "[첨단40]\n",
            "총 정류장 수: 65\n",
            "데이터셋의 정류장 수: 66\n",
            "\n",
            "\n",
            "[첨단95]\n",
            "총 정류장 수: 64\n",
            "데이터셋의 정류장 수: 61\n",
            "\n",
            "\n",
            "[금남55]\n",
            "총 정류장 수: 64\n",
            "데이터셋의 정류장 수: 61\n",
            "\n",
            "\n",
            "[대촌170]\n",
            "총 정류장 수: 64\n",
            "데이터셋의 정류장 수: 62\n",
            "\n",
            "\n",
            "[석곡87]\n",
            "총 정류장 수: 34\n",
            "데이터셋의 정류장 수: 33\n",
            "\n",
            "\n",
            "[선운101]\n",
            "총 정류장 수: 67\n",
            "데이터셋의 정류장 수: 61\n",
            "\n",
            "\n",
            "[송암74]\n",
            "총 정류장 수: 59\n",
            "데이터셋의 정류장 수: 56\n",
            "\n",
            "\n",
            "[송정100]\n",
            "총 정류장 수: 35\n",
            "데이터셋의 정류장 수: 33\n",
            "\n",
            "\n",
            "[송정93]\n",
            "총 정류장 수: 30\n",
            "데이터셋의 정류장 수: 26\n",
            "\n",
            "\n",
            "[용전86]\n",
            "총 정류장 수: 39\n",
            "데이터셋의 정류장 수: 36\n",
            "\n",
            "\n",
            "[첨단193]\n",
            "총 정류장 수: 49\n",
            "데이터셋의 정류장 수: 45\n",
            "\n",
            "\n",
            "[첨단92]\n",
            "총 정류장 수: 54\n",
            "데이터셋의 정류장 수: 52\n",
            "\n",
            "\n",
            "[첨단94]\n",
            "총 정류장 수: 58\n",
            "데이터셋의 정류장 수: 58\n",
            "\n",
            "\n",
            "[상무62]\n",
            "총 정류장 수: 55\n",
            "데이터셋의 정류장 수: 49\n",
            "\n",
            "\n",
            "[선운14]\n",
            "총 정류장 수: 29\n",
            "데이터셋의 정류장 수: 27\n",
            "\n",
            "\n",
            "[유덕65]\n",
            "총 정류장 수: 36\n",
            "데이터셋의 정류장 수: 34\n",
            "\n",
            "\n",
            "[임곡290]\n",
            "총 정류장 수: 61\n",
            "데이터셋의 정류장 수: 55\n",
            "\n",
            "\n",
            "[충효187]\n",
            "총 정류장 수: 46\n",
            "데이터셋의 정류장 수: 43\n",
            "\n",
            "\n",
            "[충효188]\n",
            "총 정류장 수: 43\n",
            "데이터셋의 정류장 수: 29\n",
            "\n",
            "\n",
            "[용전184]\n",
            "총 정류장 수: 58\n",
            "데이터셋의 정류장 수: 55\n",
            "\n",
            "\n",
            "[송정99]\n",
            "총 정류장 수: 79\n",
            "데이터셋의 정류장 수: 76\n",
            "\n",
            "\n",
            "[송정296]\n",
            "총 정류장 수: 38\n",
            "데이터셋의 정류장 수: 35\n",
            "\n",
            "\n",
            "[두암181]\n",
            "총 정류장 수: 34\n",
            "데이터셋의 정류장 수: 32\n",
            "\n",
            "\n"
          ]
        }
      ],
      "source": [
        "# for bus_names in df[df.ARS_ID.isnull()].노선명.unique():\n",
        "#     if(bus_names in bus_dict.keys()):\n",
        "#         print(\"[%s]\\n총 정류장 수: %d\\n데이터셋의 정류장 수: %d\\n\\n\"\n",
        "#               %(bus_names,len(bus_dict[bus_names]), df[df.노선명==bus_names].정류장명.nunique()))"
      ]
    },
    {
      "cell_type": "code",
      "execution_count": null,
      "metadata": {
        "collapsed": true,
        "id": "g4fTHILC_ZTi",
        "outputId": "efc7fb74-233f-46e2-f066-8a87905df62a"
      },
      "outputs": [
        {
          "name": "stdout",
          "output_type": "stream",
          "text": [
            "1187\n",
            "['국립아시아문화전당(구,도청)', '농성1동주민센터']\n",
            "\n",
            "1187-1\n",
            "['5.18민주화운동기록관', '국립아시아문화전당(구,도청)', '농성1동주민센터']\n",
            "\n",
            "419\n",
            "['국립아시아문화전당(구,도청)', '농성1동주민센터']\n",
            "\n",
            "518\n",
            "['보훈회관/518민주화운동교육관', '중소기업진흥공단 호남연수원', '국립아시아문화전당(구,도청)']\n",
            "\n",
            "금남57\n",
            "['국립아시아문화전당(구,도청)', '농성1동주민센터', '문화전당역(1130)']\n",
            "\n",
            "금남58\n",
            "['국립아시아문화전당(구,도청)', 'NC백화점', '농성1동주민센터']\n",
            "\n",
            "금남59\n",
            "['월드컵경기장정문', '국립아시아문화전당(구,도청)', '농성1동주민센터']\n",
            "\n",
            "금호36\n",
            "['국립아시아문화전당(구,도청)', '농성1동주민센터']\n",
            "\n",
            "금호46\n",
            "['대창운수', '농성1동주민센터']\n",
            "\n",
            "대촌270\n",
            "['매월동(북)', '농성1동주민센터', '서창농협벽진지점']\n",
            "\n",
            "대촌69\n",
            "['칠석', '서창농협벽진지점']\n",
            "\n",
            "대촌70\n",
            "['농성1동주민센터']\n",
            "\n",
            "대촌71\n",
            "['서남하이츠/광주국제양궁장', '농성1동주민센터']\n",
            "\n",
            "매월06\n",
            "['백운초교(남)', '농성1동주민센터']\n",
            "\n",
            "매월16\n",
            "['대창운수']\n",
            "\n",
            "매월26\n",
            "['농성1동주민센터', '광주광역시교육청/광덕고']\n",
            "\n",
            "문흥18\n",
            "['동림 I.C 입구']\n",
            "\n",
            "문흥39\n",
            "['동림 I.C 입구', '대창운수']\n",
            "\n",
            "문흥53\n",
            "['농성1동주민센터']\n",
            "\n",
            "문흥80\n",
            "['도동고개', '국립아시아문화전당(구,도청)', '농성1동주민센터']\n",
            "\n",
            "봉선27\n",
            "['용산지구', '구)신한포토닉스', '첨단']\n",
            "\n",
            "봉선37\n",
            "['동림동천마을6단지', '동림 I.C 입구', '지원2동주민센터']\n",
            "\n",
            "봉선76\n",
            "[]\n",
            "\n",
            "상무63\n",
            "['보훈회관/518민주화운동교육관', '농성1동주민센터']\n",
            "\n",
            "상무64\n",
            "['서창농협벽진지점', '농성1동주민센터', '세하동']\n",
            "\n",
            "송암31\n",
            "['광주광역시교육청/광덕고']\n",
            "\n",
            "송암47\n",
            "['서남하이츠/광주국제양궁장']\n",
            "\n",
            "송암68\n",
            "['KTX 스포츠파크']\n",
            "\n",
            "송암72\n",
            "['수완지구(KS병원)', 'NC백화점', '수완지구(KS병원']\n",
            "\n",
            "송암73\n",
            "['농성1동주민센터']\n",
            "\n",
            "송정19\n",
            "[]\n",
            "\n",
            "송정197\n",
            "['농성1동주민센터']\n",
            "\n",
            "송정29\n",
            "['농성1동주민센터']\n",
            "\n",
            "송정33\n",
            "['농성1동주민센터', '신용초교', '수완중흥S-클래스1차']\n",
            "\n",
            "송정96\n",
            "['농성1동주민센터', '삼도농협 대산경제사업장']\n",
            "\n",
            "송정97\n",
            "['솔밭가든', '명화리', '농성1동주민센터', '칠성삼거리']\n",
            "\n",
            "송정98\n",
            "['구)남구청', '5.18민주화운동기록관', '용산지구', '국립아시아문화전당(구,도청)']\n",
            "\n",
            "수완03\n",
            "['수완중흥S클래스1차', '대창운수']\n",
            "\n",
            "수완12\n",
            "['백운초교(남)', '국립아시아문화전당(구,도청)']\n",
            "\n",
            "수완49\n",
            "['수완지구(KS병원)', 'NC백화점']\n",
            "\n",
            "양산60\n",
            "['농성1동주민센터']\n",
            "\n",
            "용봉83\n",
            "['유창허니문입구', '농성1동주민센터']\n",
            "\n",
            "용전84\n",
            "['송강정', '농성1동주민센터']\n",
            "\n",
            "용전85\n",
            "['농성1동주민센터', '대진운수']\n",
            "\n",
            "운림35\n",
            "['농성1동주민센터']\n",
            "\n",
            "운림50\n",
            "['서창농협벽진지점', '세하동']\n",
            "\n",
            "운림51\n",
            "['국립아시아문화전당(구,도청)', '첨단']\n",
            "\n",
            "운림54\n",
            "['농성1동주민센터']\n",
            "\n",
            "일곡10\n",
            "['신용초교', '첨단2사랑으로부영아파트']\n",
            "\n",
            "일곡28\n",
            "['농성1동주민센터', '원삼각마을 삼일아파트']\n",
            "\n",
            "일곡38\n",
            "['보훈회관/518민주화운동교육관', '일가정양립본부']\n",
            "\n",
            "임곡89\n",
            "['518기념문화센터', '임동교', '삼화교', '동림 I.C 입구', 'NC백화점']\n",
            "\n",
            "임곡90\n",
            "[]\n",
            "\n",
            "임곡91\n",
            "['용동(임곡)', '고내입구', '임동교', '상촌(임곡)', '첨단']\n",
            "\n",
            "지원15\n",
            "['원삼각마을 삼일아파트']\n",
            "\n",
            "지원25\n",
            "['농성1동주민센터', '서창농협벽진지점']\n",
            "\n",
            "지원45\n",
            "['서남하이츠/광주국제양궁장', '국립아시아문화전당(구,도청)']\n",
            "\n",
            "지원52\n",
            "['농성1동주민센터']\n",
            "\n",
            "지원56\n",
            "['NC백화점', '지원2동주민센터']\n",
            "\n",
            "진곡196\n",
            "['농성1동주민센터']\n",
            "\n",
            "진월07\n",
            "['농성1동주민센터', 'NC백화점', '송암공단']\n",
            "\n",
            "진월17\n",
            "[]\n",
            "\n",
            "진월177\n",
            "['농성1동주민센터']\n",
            "\n",
            "진월75\n",
            "['서남하이츠/광주국제양궁장', '서창농협벽진지점']\n",
            "\n",
            "진월77\n",
            "['농성1동주민센터', '세하동']\n",
            "\n",
            "진월78\n",
            "['서남하이츠/광주국제양궁장', '농성1동주민센터', '광주김치타운']\n",
            "\n",
            "진월79\n",
            "['농성1동주민센터']\n",
            "\n",
            "첨단09\n",
            "['국립아시아문화전당(구,도청)', '첨단']\n",
            "\n",
            "첨단192\n",
            "['농성1동주민센터']\n",
            "\n",
            "첨단20\n",
            "['첨단', '진곡동길']\n",
            "\n",
            "첨단22\n",
            "['농성1동주민센터', '상무호반3차아파트', '첨단']\n",
            "\n",
            "첨단23\n",
            "['힐스테이트각화아파트', '대창운수', '농성1동주민센터']\n",
            "\n",
            "첨단30\n",
            "['운암산코오롱하늘채', 'NC백화점']\n",
            "\n",
            "첨단40\n",
            "['광주교통방송/광주디자인센터', '농성1동주민센터', '첨단', '대촌마을입구']\n",
            "\n",
            "첨단95\n",
            "['국립아시아문화전당(구,도청)', '고내입구', '첨단', '농성1동주민센터']\n",
            "\n",
            "금남55\n",
            "['도동고개', '국립아시아문화전당(구,도청)', '농성1동주민센터', '사직공원 앞']\n",
            "\n",
            "대촌170\n",
            "['농성1동주민센터']\n",
            "\n",
            "석곡87\n",
            "['중소기업진흥공단 호남연수원', '농성1동주민센터']\n",
            "\n",
            "선운101\n",
            "['광주시립인광병원', '수완중흥S-클래스2차', '송정초등학교', '송산유원지', '광주인광병원', '동명고', '송산유원지(종점)']\n",
            "\n",
            "송암74\n",
            "['도동고개', '농성1동주민센터']\n",
            "\n",
            "송정100\n",
            "['농성1동주민센터']\n",
            "\n",
            "송정93\n",
            "['금연삼거리', '연산동', '농성1동주민센터']\n",
            "\n",
            "용전86\n",
            "['보광사', '힐스테이트각화아파트', '농성1동주민센터']\n",
            "\n",
            "첨단193\n",
            "['농성1동주민센터', '평촌(장성)', '수촌(장성)', '덕촌', '남면사무소(장성)']\n",
            "\n",
            "첨단92\n",
            "['농성1동주민센터', '첨단']\n",
            "\n",
            "첨단94\n",
            "['기아차 하남공장', '첨단', '농성1동주민센터']\n",
            "\n",
            "상무62\n",
            "['농성1동주민센터', '상무역(북)', '상무대우아파트', '운천초교', '상무쌍용금호아파트', '동림 I.C 입구']\n",
            "\n",
            "선운14\n",
            "['농성1동주민센터']\n",
            "\n",
            "유덕65\n",
            "['농성1동주민센터', 'NC백화점']\n",
            "\n",
            "임곡290\n",
            "['벽파정', '임동교', '상촌(임곡)', '연동서길', '고룡정보산업학교', '창암']\n",
            "\n",
            "충효187\n",
            "['도동고개', '농성1동주민센터']\n",
            "\n",
            "충효188\n",
            "['화암마을위', '농성1동주민센터', '가사문학관', '충효동환벽당', '공원묘지입구', '유산교', '소쇄원', '두촌', '국립5.18민주묘지', '신촌(윗길)', '단지삼거리', '신촌(아랫길)', '복다우', '지실']\n",
            "\n",
            "용전184\n",
            "['원촌', '농성1동주민센터']\n",
            "\n",
            "송정99\n",
            "['신광', '신야촌입구', '육묘장']\n",
            "\n",
            "송정296\n",
            "['농성1동주민센터', '동림마을']\n",
            "\n",
            "두암181\n",
            "['중소기업진흥공단 호남연수원', '농성1동주민센터']\n",
            "\n"
          ]
        }
      ],
      "source": [
        "# for bus_names in df[df.ARS_ID.isnull()].노선명.unique():\n",
        "#     if(bus_names in bus_dict.keys()):\n",
        "#         whole_bus = set( bus_dict[bus_names] )\n",
        "#         dataset_bus = set( df[df.노선명==bus_names].정류장명.unique() )\n",
        "#         print(\"%s\"%bus_names)\n",
        "#         print( list(whole_bus - dataset_bus ), end='\\n\\n' )"
      ]
    },
    {
      "cell_type": "markdown",
      "metadata": {
        "id": "qLqhPzRo_ZTi"
      },
      "source": [
        "### 1) 결측치 제거"
      ]
    },
    {
      "cell_type": "markdown",
      "metadata": {
        "id": "tCAkH7bA_ZTi"
      },
      "source": [
        "#### - 임의의 ARS_ID 값 부여"
      ]
    },
    {
      "cell_type": "code",
      "execution_count": null,
      "metadata": {
        "id": "Ez3G6iZs_ZTi"
      },
      "outputs": [],
      "source": [
        "null_ARS_ID = df[(df.정류장명=='시화문화마을문화관') & df.ARS_ID.isnull()].ARS_ID\n",
        "df.loc[null_ARS_ID.index, 'ARS_ID'] = \"46740\""
      ]
    },
    {
      "cell_type": "markdown",
      "metadata": {
        "id": "vs3Azn6n_ZTi"
      },
      "source": [
        "<br>\n",
        "각화중 방향 ARS_ID에는 임의의 코드 값 부여<br>\n",
        "<br>"
      ]
    },
    {
      "cell_type": "code",
      "execution_count": null,
      "metadata": {
        "id": "tfkzO60J_ZTj",
        "outputId": "a314c9cd-d1c9-49a5-96b1-bed990ed7687",
        "colab": {
          "base_uri": "https://localhost:8080/",
          "height": 49
        }
      },
      "outputs": [
        {
          "output_type": "execute_result",
          "data": {
            "text/plain": [
              "Empty DataFrame\n",
              "Columns: [일자, 노선명, 정류장명, ARS_ID, 시간, 승하차, 거래건수]\n",
              "Index: []"
            ],
            "text/html": [
              "\n",
              "  <div id=\"df-1eb4ff94-22f6-438c-bbb1-f32f198efb79\">\n",
              "    <div class=\"colab-df-container\">\n",
              "      <div>\n",
              "<style scoped>\n",
              "    .dataframe tbody tr th:only-of-type {\n",
              "        vertical-align: middle;\n",
              "    }\n",
              "\n",
              "    .dataframe tbody tr th {\n",
              "        vertical-align: top;\n",
              "    }\n",
              "\n",
              "    .dataframe thead th {\n",
              "        text-align: right;\n",
              "    }\n",
              "</style>\n",
              "<table border=\"1\" class=\"dataframe\">\n",
              "  <thead>\n",
              "    <tr style=\"text-align: right;\">\n",
              "      <th></th>\n",
              "      <th>일자</th>\n",
              "      <th>노선명</th>\n",
              "      <th>정류장명</th>\n",
              "      <th>ARS_ID</th>\n",
              "      <th>시간</th>\n",
              "      <th>승하차</th>\n",
              "      <th>거래건수</th>\n",
              "    </tr>\n",
              "  </thead>\n",
              "  <tbody>\n",
              "  </tbody>\n",
              "</table>\n",
              "</div>\n",
              "      <button class=\"colab-df-convert\" onclick=\"convertToInteractive('df-1eb4ff94-22f6-438c-bbb1-f32f198efb79')\"\n",
              "              title=\"Convert this dataframe to an interactive table.\"\n",
              "              style=\"display:none;\">\n",
              "        \n",
              "  <svg xmlns=\"http://www.w3.org/2000/svg\" height=\"24px\"viewBox=\"0 0 24 24\"\n",
              "       width=\"24px\">\n",
              "    <path d=\"M0 0h24v24H0V0z\" fill=\"none\"/>\n",
              "    <path d=\"M18.56 5.44l.94 2.06.94-2.06 2.06-.94-2.06-.94-.94-2.06-.94 2.06-2.06.94zm-11 1L8.5 8.5l.94-2.06 2.06-.94-2.06-.94L8.5 2.5l-.94 2.06-2.06.94zm10 10l.94 2.06.94-2.06 2.06-.94-2.06-.94-.94-2.06-.94 2.06-2.06.94z\"/><path d=\"M17.41 7.96l-1.37-1.37c-.4-.4-.92-.59-1.43-.59-.52 0-1.04.2-1.43.59L10.3 9.45l-7.72 7.72c-.78.78-.78 2.05 0 2.83L4 21.41c.39.39.9.59 1.41.59.51 0 1.02-.2 1.41-.59l7.78-7.78 2.81-2.81c.8-.78.8-2.07 0-2.86zM5.41 20L4 18.59l7.72-7.72 1.47 1.35L5.41 20z\"/>\n",
              "  </svg>\n",
              "      </button>\n",
              "      \n",
              "  <style>\n",
              "    .colab-df-container {\n",
              "      display:flex;\n",
              "      flex-wrap:wrap;\n",
              "      gap: 12px;\n",
              "    }\n",
              "\n",
              "    .colab-df-convert {\n",
              "      background-color: #E8F0FE;\n",
              "      border: none;\n",
              "      border-radius: 50%;\n",
              "      cursor: pointer;\n",
              "      display: none;\n",
              "      fill: #1967D2;\n",
              "      height: 32px;\n",
              "      padding: 0 0 0 0;\n",
              "      width: 32px;\n",
              "    }\n",
              "\n",
              "    .colab-df-convert:hover {\n",
              "      background-color: #E2EBFA;\n",
              "      box-shadow: 0px 1px 2px rgba(60, 64, 67, 0.3), 0px 1px 3px 1px rgba(60, 64, 67, 0.15);\n",
              "      fill: #174EA6;\n",
              "    }\n",
              "\n",
              "    [theme=dark] .colab-df-convert {\n",
              "      background-color: #3B4455;\n",
              "      fill: #D2E3FC;\n",
              "    }\n",
              "\n",
              "    [theme=dark] .colab-df-convert:hover {\n",
              "      background-color: #434B5C;\n",
              "      box-shadow: 0px 1px 3px 1px rgba(0, 0, 0, 0.15);\n",
              "      filter: drop-shadow(0px 1px 2px rgba(0, 0, 0, 0.3));\n",
              "      fill: #FFFFFF;\n",
              "    }\n",
              "  </style>\n",
              "\n",
              "      <script>\n",
              "        const buttonEl =\n",
              "          document.querySelector('#df-1eb4ff94-22f6-438c-bbb1-f32f198efb79 button.colab-df-convert');\n",
              "        buttonEl.style.display =\n",
              "          google.colab.kernel.accessAllowed ? 'block' : 'none';\n",
              "\n",
              "        async function convertToInteractive(key) {\n",
              "          const element = document.querySelector('#df-1eb4ff94-22f6-438c-bbb1-f32f198efb79');\n",
              "          const dataTable =\n",
              "            await google.colab.kernel.invokeFunction('convertToInteractive',\n",
              "                                                     [key], {});\n",
              "          if (!dataTable) return;\n",
              "\n",
              "          const docLinkHtml = 'Like what you see? Visit the ' +\n",
              "            '<a target=\"_blank\" href=https://colab.research.google.com/notebooks/data_table.ipynb>data table notebook</a>'\n",
              "            + ' to learn more about interactive tables.';\n",
              "          element.innerHTML = '';\n",
              "          dataTable['output_type'] = 'display_data';\n",
              "          await google.colab.output.renderOutput(dataTable, element);\n",
              "          const docLink = document.createElement('div');\n",
              "          docLink.innerHTML = docLinkHtml;\n",
              "          element.appendChild(docLink);\n",
              "        }\n",
              "      </script>\n",
              "    </div>\n",
              "  </div>\n",
              "  "
            ]
          },
          "metadata": {},
          "execution_count": 11
        }
      ],
      "source": [
        "df[df.정류장명.notnull() & df.ARS_ID.isnull()]"
      ]
    },
    {
      "cell_type": "code",
      "execution_count": null,
      "metadata": {
        "id": "AVZ8UM2f_ZTj",
        "outputId": "d584ae22-a0b1-42db-d037-f54dd8fe4652",
        "colab": {
          "base_uri": "https://localhost:8080/"
        }
      },
      "outputs": [
        {
          "output_type": "execute_result",
          "data": {
            "text/plain": [
              "일자            0\n",
              "노선명           0\n",
              "정류장명      24032\n",
              "ARS_ID    24032\n",
              "시간            0\n",
              "승하차           0\n",
              "거래건수          0\n",
              "dtype: int64"
            ]
          },
          "metadata": {},
          "execution_count": 12
        }
      ],
      "source": [
        "df.isnull().sum()"
      ]
    },
    {
      "cell_type": "markdown",
      "metadata": {
        "id": "WFZWfunq_ZTj"
      },
      "source": [
        "<br>\n",
        "정류장명과 ARS_ID 간 결측치 개수 일치<br>\n",
        "<br>"
      ]
    },
    {
      "cell_type": "markdown",
      "metadata": {
        "id": "5sBn8g_E_ZTj"
      },
      "source": [
        "#### - drop NA"
      ]
    },
    {
      "cell_type": "code",
      "execution_count": null,
      "metadata": {
        "id": "JG2CUMO9_ZTj",
        "outputId": "e71a084c-4061-449a-a964-859590755f86",
        "colab": {
          "base_uri": "https://localhost:8080/"
        }
      },
      "outputs": [
        {
          "output_type": "execute_result",
          "data": {
            "text/plain": [
              "(3670384, 7)"
            ]
          },
          "metadata": {},
          "execution_count": 13
        }
      ],
      "source": [
        "df.shape"
      ]
    },
    {
      "cell_type": "code",
      "execution_count": null,
      "metadata": {
        "id": "7qGOJzsn_ZTj",
        "outputId": "e7847c36-59d5-4b7a-cc81-21557fbc3737",
        "colab": {
          "base_uri": "https://localhost:8080/"
        }
      },
      "outputs": [
        {
          "output_type": "execute_result",
          "data": {
            "text/plain": [
              "(3646352, 7)"
            ]
          },
          "metadata": {},
          "execution_count": 14
        }
      ],
      "source": [
        "df = df.dropna()\n",
        "df.shape"
      ]
    },
    {
      "cell_type": "code",
      "execution_count": null,
      "metadata": {
        "id": "Hswypupy_ZTk",
        "outputId": "8fc5a503-c38a-41a3-ab2e-aef677547803",
        "colab": {
          "base_uri": "https://localhost:8080/"
        }
      },
      "outputs": [
        {
          "output_type": "execute_result",
          "data": {
            "text/plain": [
              "일자        0\n",
              "노선명       0\n",
              "정류장명      0\n",
              "ARS_ID    0\n",
              "시간        0\n",
              "승하차       0\n",
              "거래건수      0\n",
              "dtype: int64"
            ]
          },
          "metadata": {},
          "execution_count": 15
        }
      ],
      "source": [
        "df.isnull().sum()"
      ]
    },
    {
      "cell_type": "markdown",
      "metadata": {
        "id": "oWxddv15_ZTk"
      },
      "source": [
        "### 2) 데이터 정류장 별 그룹화"
      ]
    },
    {
      "cell_type": "code",
      "execution_count": null,
      "metadata": {
        "id": "a4j_prDW_ZTk"
      },
      "outputs": [],
      "source": [
        "grp_df = df.groupby(['일자','ARS_ID','시간','승하차']).sum()\n",
        "grp_df = grp_df.reset_index()"
      ]
    },
    {
      "cell_type": "code",
      "execution_count": null,
      "metadata": {
        "id": "7kUSODtC_ZTk",
        "outputId": "19e05387-a94a-41cc-8e55-5514378d58a3",
        "colab": {
          "base_uri": "https://localhost:8080/",
          "height": 206
        }
      },
      "outputs": [
        {
          "output_type": "execute_result",
          "data": {
            "text/plain": [
              "         일자  ARS_ID  시간 승하차  거래건수\n",
              "0  20220301  1002.0   5  하차     2\n",
              "1  20220301  1002.0   6  승차     1\n",
              "2  20220301  1002.0   6  하차     1\n",
              "3  20220301  1002.0   7  승차     6\n",
              "4  20220301  1002.0   8  승차     6"
            ],
            "text/html": [
              "\n",
              "  <div id=\"df-ad4b4c1c-e44f-456d-bbcf-f373db158acf\">\n",
              "    <div class=\"colab-df-container\">\n",
              "      <div>\n",
              "<style scoped>\n",
              "    .dataframe tbody tr th:only-of-type {\n",
              "        vertical-align: middle;\n",
              "    }\n",
              "\n",
              "    .dataframe tbody tr th {\n",
              "        vertical-align: top;\n",
              "    }\n",
              "\n",
              "    .dataframe thead th {\n",
              "        text-align: right;\n",
              "    }\n",
              "</style>\n",
              "<table border=\"1\" class=\"dataframe\">\n",
              "  <thead>\n",
              "    <tr style=\"text-align: right;\">\n",
              "      <th></th>\n",
              "      <th>일자</th>\n",
              "      <th>ARS_ID</th>\n",
              "      <th>시간</th>\n",
              "      <th>승하차</th>\n",
              "      <th>거래건수</th>\n",
              "    </tr>\n",
              "  </thead>\n",
              "  <tbody>\n",
              "    <tr>\n",
              "      <th>0</th>\n",
              "      <td>20220301</td>\n",
              "      <td>1002.0</td>\n",
              "      <td>5</td>\n",
              "      <td>하차</td>\n",
              "      <td>2</td>\n",
              "    </tr>\n",
              "    <tr>\n",
              "      <th>1</th>\n",
              "      <td>20220301</td>\n",
              "      <td>1002.0</td>\n",
              "      <td>6</td>\n",
              "      <td>승차</td>\n",
              "      <td>1</td>\n",
              "    </tr>\n",
              "    <tr>\n",
              "      <th>2</th>\n",
              "      <td>20220301</td>\n",
              "      <td>1002.0</td>\n",
              "      <td>6</td>\n",
              "      <td>하차</td>\n",
              "      <td>1</td>\n",
              "    </tr>\n",
              "    <tr>\n",
              "      <th>3</th>\n",
              "      <td>20220301</td>\n",
              "      <td>1002.0</td>\n",
              "      <td>7</td>\n",
              "      <td>승차</td>\n",
              "      <td>6</td>\n",
              "    </tr>\n",
              "    <tr>\n",
              "      <th>4</th>\n",
              "      <td>20220301</td>\n",
              "      <td>1002.0</td>\n",
              "      <td>8</td>\n",
              "      <td>승차</td>\n",
              "      <td>6</td>\n",
              "    </tr>\n",
              "  </tbody>\n",
              "</table>\n",
              "</div>\n",
              "      <button class=\"colab-df-convert\" onclick=\"convertToInteractive('df-ad4b4c1c-e44f-456d-bbcf-f373db158acf')\"\n",
              "              title=\"Convert this dataframe to an interactive table.\"\n",
              "              style=\"display:none;\">\n",
              "        \n",
              "  <svg xmlns=\"http://www.w3.org/2000/svg\" height=\"24px\"viewBox=\"0 0 24 24\"\n",
              "       width=\"24px\">\n",
              "    <path d=\"M0 0h24v24H0V0z\" fill=\"none\"/>\n",
              "    <path d=\"M18.56 5.44l.94 2.06.94-2.06 2.06-.94-2.06-.94-.94-2.06-.94 2.06-2.06.94zm-11 1L8.5 8.5l.94-2.06 2.06-.94-2.06-.94L8.5 2.5l-.94 2.06-2.06.94zm10 10l.94 2.06.94-2.06 2.06-.94-2.06-.94-.94-2.06-.94 2.06-2.06.94z\"/><path d=\"M17.41 7.96l-1.37-1.37c-.4-.4-.92-.59-1.43-.59-.52 0-1.04.2-1.43.59L10.3 9.45l-7.72 7.72c-.78.78-.78 2.05 0 2.83L4 21.41c.39.39.9.59 1.41.59.51 0 1.02-.2 1.41-.59l7.78-7.78 2.81-2.81c.8-.78.8-2.07 0-2.86zM5.41 20L4 18.59l7.72-7.72 1.47 1.35L5.41 20z\"/>\n",
              "  </svg>\n",
              "      </button>\n",
              "      \n",
              "  <style>\n",
              "    .colab-df-container {\n",
              "      display:flex;\n",
              "      flex-wrap:wrap;\n",
              "      gap: 12px;\n",
              "    }\n",
              "\n",
              "    .colab-df-convert {\n",
              "      background-color: #E8F0FE;\n",
              "      border: none;\n",
              "      border-radius: 50%;\n",
              "      cursor: pointer;\n",
              "      display: none;\n",
              "      fill: #1967D2;\n",
              "      height: 32px;\n",
              "      padding: 0 0 0 0;\n",
              "      width: 32px;\n",
              "    }\n",
              "\n",
              "    .colab-df-convert:hover {\n",
              "      background-color: #E2EBFA;\n",
              "      box-shadow: 0px 1px 2px rgba(60, 64, 67, 0.3), 0px 1px 3px 1px rgba(60, 64, 67, 0.15);\n",
              "      fill: #174EA6;\n",
              "    }\n",
              "\n",
              "    [theme=dark] .colab-df-convert {\n",
              "      background-color: #3B4455;\n",
              "      fill: #D2E3FC;\n",
              "    }\n",
              "\n",
              "    [theme=dark] .colab-df-convert:hover {\n",
              "      background-color: #434B5C;\n",
              "      box-shadow: 0px 1px 3px 1px rgba(0, 0, 0, 0.15);\n",
              "      filter: drop-shadow(0px 1px 2px rgba(0, 0, 0, 0.3));\n",
              "      fill: #FFFFFF;\n",
              "    }\n",
              "  </style>\n",
              "\n",
              "      <script>\n",
              "        const buttonEl =\n",
              "          document.querySelector('#df-ad4b4c1c-e44f-456d-bbcf-f373db158acf button.colab-df-convert');\n",
              "        buttonEl.style.display =\n",
              "          google.colab.kernel.accessAllowed ? 'block' : 'none';\n",
              "\n",
              "        async function convertToInteractive(key) {\n",
              "          const element = document.querySelector('#df-ad4b4c1c-e44f-456d-bbcf-f373db158acf');\n",
              "          const dataTable =\n",
              "            await google.colab.kernel.invokeFunction('convertToInteractive',\n",
              "                                                     [key], {});\n",
              "          if (!dataTable) return;\n",
              "\n",
              "          const docLinkHtml = 'Like what you see? Visit the ' +\n",
              "            '<a target=\"_blank\" href=https://colab.research.google.com/notebooks/data_table.ipynb>data table notebook</a>'\n",
              "            + ' to learn more about interactive tables.';\n",
              "          element.innerHTML = '';\n",
              "          dataTable['output_type'] = 'display_data';\n",
              "          await google.colab.output.renderOutput(dataTable, element);\n",
              "          const docLink = document.createElement('div');\n",
              "          docLink.innerHTML = docLinkHtml;\n",
              "          element.appendChild(docLink);\n",
              "        }\n",
              "      </script>\n",
              "    </div>\n",
              "  </div>\n",
              "  "
            ]
          },
          "metadata": {},
          "execution_count": 58
        }
      ],
      "source": [
        "grp_df.head()"
      ]
    },
    {
      "cell_type": "markdown",
      "metadata": {
        "id": "17vyX_ee_ZTk"
      },
      "source": [
        "### 3) 시간/승하차별 거래건수 Feature화"
      ]
    },
    {
      "cell_type": "code",
      "execution_count": null,
      "metadata": {
        "id": "oXfUpOPA_ZTk"
      },
      "outputs": [],
      "source": [
        "for i in grp_df.loc[:,'시간'].unique():\n",
        "    grp_df[str(i)+'_ride'] = 0\n",
        "    grp_df[str(i)+'_takeoff'] = 0"
      ]
    },
    {
      "cell_type": "code",
      "execution_count": null,
      "metadata": {
        "id": "mf052oqj_ZTl"
      },
      "outputs": [],
      "source": [
        "def makeFeatures(data):\n",
        "        time = str(data.시간)\n",
        "        \n",
        "        if (data.승하차=='승차'): tmp = '_ride'\n",
        "        else: tmp = '_takeoff'\n",
        "            \n",
        "        num = data.거래건수\n",
        "        \n",
        "        return [time+tmp, num]"
      ]
    },
    {
      "cell_type": "code",
      "execution_count": null,
      "metadata": {
        "id": "VVXAoZxI_ZTl"
      },
      "outputs": [],
      "source": [
        "for i in tqdm(range(len(grp_df))):\n",
        "    data_list = makeFeatures(grp_df.loc[i,:])\n",
        "    grp_df.loc[i,data_list[0]] = data_list[1]"
      ]
    },
    {
      "cell_type": "markdown",
      "metadata": {
        "id": "oFPkx0Is_ZTl"
      },
      "source": [
        "### 4) 일자 요일화, One-hot Encoding"
      ]
    },
    {
      "cell_type": "code",
      "execution_count": null,
      "metadata": {
        "id": "arJDP2Ci_ZTl"
      },
      "outputs": [],
      "source": [
        "grp_df['weekday'] = pd.to_datetime(grp_df['일자'], format=\"%Y%m%d\").dt.weekday\n",
        "grp_df = pd.get_dummies(grp_df, columns=['weekday'])\n",
        "grp_df.columns"
      ]
    },
    {
      "cell_type": "markdown",
      "metadata": {
        "id": "UKCgmgcK_ZTl"
      },
      "source": [
        "moday is 0, sunday is 6"
      ]
    },
    {
      "cell_type": "markdown",
      "metadata": {
        "id": "sNOg32gB_ZTm"
      },
      "source": [
        "### 5) 추가 피처 생성"
      ]
    },
    {
      "cell_type": "markdown",
      "metadata": {
        "id": "YknpY4Kd_ZTm"
      },
      "source": [
        "* 공휴일 유무 피처"
      ]
    },
    {
      "cell_type": "markdown",
      "metadata": {
        "id": "EYGA0dmZ_ZTm"
      },
      "source": [
        "* 우천 여부 피처"
      ]
    },
    {
      "cell_type": "markdown",
      "metadata": {
        "id": "1Cr9g8Ha_ZTm"
      },
      "source": [
        "* 기온 피처"
      ]
    },
    {
      "cell_type": "markdown",
      "source": [
        "# **4. 모델 학습 및 저장**"
      ],
      "metadata": {
        "id": "PCsoZ6rdIbdI"
      }
    },
    {
      "cell_type": "markdown",
      "source": [
        "### 1) 모델 학습"
      ],
      "metadata": {
        "id": "6BSTJki5Ik4o"
      }
    },
    {
      "cell_type": "code",
      "execution_count": null,
      "metadata": {
        "id": "DAncVnUA_ZTm"
      },
      "outputs": [],
      "source": [
        "input_var = ['weekday_0', 'weekday_1', 'weekday_2', 'weekday_3', 'weekday_4', 'weekday_5', 'weekday_6',]\n",
        "target = new_df['거래건수']"
      ]
    },
    {
      "cell_type": "code",
      "execution_count": null,
      "metadata": {
        "id": "QuCZUkc3_ZTm"
      },
      "outputs": [],
      "source": [
        "x_train, x_test, y_train, y_test = train_test_split(new_df.loc[:,input_var], target, test_size=0.2, shuffle=True, random_state=34)"
      ]
    },
    {
      "cell_type": "code",
      "execution_count": null,
      "metadata": {
        "id": "jH13Pf0A_ZTm"
      },
      "outputs": [],
      "source": [
        "from sklearn.ensemble import RandomForestRegressor\n",
        "rf = RandomForestRegressor(random_state=1217)"
      ]
    },
    {
      "cell_type": "code",
      "execution_count": null,
      "metadata": {
        "id": "54D1_VAF_ZTn",
        "outputId": "515c617f-92d3-4a81-d8bd-cc1a2c122f1a"
      },
      "outputs": [
        {
          "data": {
            "text/plain": [
              "RandomForestRegressor(random_state=1217)"
            ]
          },
          "execution_count": 39,
          "metadata": {},
          "output_type": "execute_result"
        }
      ],
      "source": [
        "rf.fit(x_train, y_train)"
      ]
    },
    {
      "cell_type": "markdown",
      "source": [
        "### 2) 모델 저장"
      ],
      "metadata": {
        "id": "UEzJBF0KIn2o"
      }
    },
    {
      "cell_type": "code",
      "execution_count": null,
      "metadata": {
        "id": "CXRnas7u_ZTn",
        "outputId": "c8aa9f4c-c917-4b4f-f3b5-15c656fb5625"
      },
      "outputs": [
        {
          "data": {
            "text/plain": [
              "['./bus_model.pkl']"
            ]
          },
          "execution_count": 41,
          "metadata": {},
          "output_type": "execute_result"
        }
      ],
      "source": [
        "import joblib\n",
        "joblib.dump(rf, './bus_model.pkl')"
      ]
    }
  ],
  "metadata": {
    "kernelspec": {
      "display_name": "Python 3",
      "language": "python",
      "name": "python3"
    },
    "language_info": {
      "codemirror_mode": {
        "name": "ipython",
        "version": 3
      },
      "file_extension": ".py",
      "mimetype": "text/x-python",
      "name": "python",
      "nbconvert_exporter": "python",
      "pygments_lexer": "ipython3",
      "version": "3.7.3"
    },
    "colab": {
      "name": "Bus_Predict_Project.ipynb",
      "provenance": [],
      "collapsed_sections": [
        "4cPXHA7i_ZTV",
        "bfQYhcFk_ZTZ",
        "rxQQdC2s_ZTa",
        "FW63TfNt_ZTb",
        "WHgAoojO_ZTd",
        "VjUtpZvT_ZTe",
        "u55wOpCa_ZTh",
        "tCAkH7bA_ZTi"
      ],
      "toc_visible": true
    },
    "accelerator": "GPU"
  },
  "nbformat": 4,
  "nbformat_minor": 0
}